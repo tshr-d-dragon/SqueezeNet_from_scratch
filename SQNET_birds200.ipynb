{
  "cells": [
    {
      "cell_type": "code",
      "execution_count": 1,
      "metadata": {
        "colab": {
          "base_uri": "https://localhost:8080/"
        },
        "id": "V56uxE0QtNpp",
        "outputId": "09386c5e-0199-46d5-a68e-70446384f489"
      },
      "outputs": [
        {
          "output_type": "stream",
          "name": "stdout",
          "text": [
            "Wed May  4 05:04:23 2022       \n",
            "+-----------------------------------------------------------------------------+\n",
            "| NVIDIA-SMI 460.32.03    Driver Version: 460.32.03    CUDA Version: 11.2     |\n",
            "|-------------------------------+----------------------+----------------------+\n",
            "| GPU  Name        Persistence-M| Bus-Id        Disp.A | Volatile Uncorr. ECC |\n",
            "| Fan  Temp  Perf  Pwr:Usage/Cap|         Memory-Usage | GPU-Util  Compute M. |\n",
            "|                               |                      |               MIG M. |\n",
            "|===============================+======================+======================|\n",
            "|   0  Tesla T4            Off  | 00000000:00:04.0 Off |                    0 |\n",
            "| N/A   60C    P8    10W /  70W |      0MiB / 15109MiB |      0%      Default |\n",
            "|                               |                      |                  N/A |\n",
            "+-------------------------------+----------------------+----------------------+\n",
            "                                                                               \n",
            "+-----------------------------------------------------------------------------+\n",
            "| Processes:                                                                  |\n",
            "|  GPU   GI   CI        PID   Type   Process name                  GPU Memory |\n",
            "|        ID   ID                                                   Usage      |\n",
            "|=============================================================================|\n",
            "|  No running processes found                                                 |\n",
            "+-----------------------------------------------------------------------------+\n"
          ]
        }
      ],
      "source": [
        "!nvidia-smi"
      ]
    },
    {
      "cell_type": "markdown",
      "source": [
        "# DataLoader"
      ],
      "metadata": {
        "id": "3H224cZo_tss"
      }
    },
    {
      "cell_type": "code",
      "execution_count": 2,
      "metadata": {
        "colab": {
          "base_uri": "https://localhost:8080/",
          "height": 142,
          "resources": {
            "http://localhost:8080/nbextensions/google.colab/files.js": {
              "data": "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",
              "headers": [
                [
                  "content-type",
                  "application/javascript"
                ]
              ],
              "ok": true,
              "status": 200,
              "status_text": ""
            }
          }
        },
        "id": "xU05Hs29tAYo",
        "outputId": "92152796-fe8c-44b6-c195-18d8fa640dc6"
      },
      "outputs": [
        {
          "output_type": "display_data",
          "data": {
            "text/plain": [
              "<IPython.core.display.HTML object>"
            ],
            "text/html": [
              "\n",
              "     <input type=\"file\" id=\"files-3da04b5d-f75b-4c59-9ded-e5967c66abda\" name=\"files[]\" multiple disabled\n",
              "        style=\"border:none\" />\n",
              "     <output id=\"result-3da04b5d-f75b-4c59-9ded-e5967c66abda\">\n",
              "      Upload widget is only available when the cell has been executed in the\n",
              "      current browser session. Please rerun this cell to enable.\n",
              "      </output>\n",
              "      <script src=\"/nbextensions/google.colab/files.js\"></script> "
            ]
          },
          "metadata": {}
        },
        {
          "output_type": "stream",
          "name": "stdout",
          "text": [
            "Saving kaggle.json to kaggle.json\n",
            "kaggle.json\n",
            "Downloading bird-species-classification-220-categories.zip to /content\n",
            " 98% 1.04G/1.06G [00:06<00:00, 158MB/s]\n",
            "100% 1.06G/1.06G [00:06<00:00, 164MB/s]\n"
          ]
        }
      ],
      "source": [
        "from google.colab import files\n",
        "files.upload() #upload kaggle.json\n",
        "!pip install -q kaggle\n",
        "!mkdir -p ~/.kaggle\n",
        "import time\n",
        "time.sleep(5)\n",
        "!cp kaggle.json ~/.kaggle/\n",
        "!ls ~/.kaggle\n",
        "!chmod 600 /root/.kaggle/kaggle.json\n",
        "\n",
        "!kaggle datasets download -d kedarsai/bird-species-classification-220-categories\n",
        "!unzip -q /content/bird-species-classification-220-categories.zip\n",
        "!rm -rf /content/bird-species-classification-220-categories.zip"
      ]
    },
    {
      "cell_type": "code",
      "source": [
        "from glob import glob\n",
        "\n",
        "cw = {}\n",
        "c = len(glob('/content/Train/*/*'))\n",
        "\n",
        "for i in range(200):\n",
        "\n",
        "  cw[i] = 1000 * len(os.listdir(glob('/content/Train/*')[i])) / c\n"
      ],
      "metadata": {
        "id": "LFJSy31fymXo"
      },
      "execution_count": 10,
      "outputs": []
    },
    {
      "cell_type": "code",
      "execution_count": 4,
      "metadata": {
        "colab": {
          "base_uri": "https://localhost:8080/"
        },
        "id": "S1fOnmbps4l7",
        "outputId": "b809162f-22f6-4e57-f7c7-e0afa64d2a86"
      },
      "outputs": [
        {
          "output_type": "stream",
          "name": "stdout",
          "text": [
            "Found 8045 images belonging to 200 classes.\n",
            "Found 1369 images belonging to 200 classes.\n",
            "Found 2374 images belonging to 200 classes.\n"
          ]
        }
      ],
      "source": [
        "from keras.preprocessing.image import ImageDataGenerator\n",
        "\n",
        "train_datagen = ImageDataGenerator(rescale = 1/255.0,\n",
        "                                   shear_range = 0.2,\n",
        "                                   zoom_range = 0.2,\n",
        "                                   brightness_range = (0.1, 0.25),\n",
        "                                   rotation_range = 20,\n",
        "                                   vertical_flip = True,\n",
        "                                   horizontal_flip = True,\n",
        "                                   validation_split = 0.15)\n",
        "\n",
        "# valid_datagen =  ImageDataGenerator(rescale = 1/255.0,\n",
        "#                                    shear_range = 0.2,\n",
        "#                                    zoom_range = 0.2,\n",
        "#                                    brightness_range = (0.1, 0.25),\n",
        "#                                    rotation_range = 20,\n",
        "#                                    vertical_flip = True,\n",
        "#                                    horizontal_flip = True,)\n",
        " \n",
        "test_datagen =  ImageDataGenerator(rescale = 1/255.0,\n",
        "                                   shear_range = 0.2,\n",
        "                                   zoom_range = 0.2,\n",
        "                                   brightness_range = (0.1, 0.25),\n",
        "                                   rotation_range = 20,\n",
        "                                   vertical_flip = True,\n",
        "                                   horizontal_flip = True,)\n",
        "    \n",
        "    \n",
        "training_set = train_datagen.flow_from_directory('/content/Train/',\n",
        "                                                 target_size = (224, 224),\n",
        "                                                 batch_size = 128,\n",
        "                                                 class_mode = 'categorical',\n",
        "                                                 subset = 'training')\n",
        "\n",
        "valid_set = train_datagen.flow_from_directory('/content/Train/',\n",
        "                                            target_size = (224, 224),\n",
        "                                            batch_size = 128,\n",
        "                                            class_mode = 'categorical',\n",
        "                                            subset = 'validation'\n",
        "                                            )\n",
        "\n",
        "test_set = test_datagen.flow_from_directory('/content/Test/',\n",
        "                                            target_size = (224, 224),\n",
        "                                            batch_size = 128,\n",
        "                                            class_mode = 'categorical',)"
      ]
    },
    {
      "cell_type": "markdown",
      "source": [
        "# SQNet"
      ],
      "metadata": {
        "id": "neD5Mt2E_1h9"
      }
    },
    {
      "cell_type": "code",
      "execution_count": 2,
      "metadata": {
        "id": "2OtKCPA2s4lg"
      },
      "outputs": [],
      "source": [
        "import os\n",
        "os.environ[\"TF_CPP_MIN_LOG_LEVEL\"] = \"3\"\n",
        "from keras.layers import Conv2D, BatchNormalization, Activation, MaxPooling2D, Dropout\n",
        "from keras.layers import Concatenate, Input, GlobalAveragePooling2D, Dense\n",
        "from keras.models import Model\n",
        "\n",
        "\n",
        "def SqueezeNet(input_shape, classes):\n",
        "\n",
        "\n",
        "  def Fire(inputs, fs, fe):\n",
        "    \n",
        "    s1 = Conv2D(filters=fs, kernel_size=1, padding='same', use_bias=False, activation='relu')(inputs)\n",
        "    s1 = BatchNormalization()(s1)\n",
        "    e1 = Conv2D(filters=fe, kernel_size=1, padding='same', use_bias=False, activation='relu')(s1)\n",
        "    e1 = BatchNormalization()(e1)\n",
        "    e3 = Conv2D(filters=fe, kernel_size=3, padding='same', use_bias=False, activation='relu')(s1)\n",
        "    e3 = BatchNormalization()(e3)\n",
        "\n",
        "    output = Concatenate()([e1, e3])\n",
        "  \n",
        "    return output\n",
        "\n",
        "\n",
        "  inputs = Input(input_shape)\n",
        "  x1 = Conv2D(filters=96, kernel_size=7, strides=2, padding='same', use_bias=False, activation='relu')(inputs)\n",
        "  x1= s1 = BatchNormalization()(x1)\n",
        "  x1 = MaxPooling2D(pool_size=3, strides=2, padding='same')(x1)\n",
        "\n",
        "  f2 = Fire(x1, 16, 64)\n",
        "  f3 = Fire(f2, 16, 64)\n",
        "  f4 = Fire(f3, 32, 128)\n",
        "  x1 = MaxPooling2D(pool_size=3, strides=2, padding='same')(f4)\n",
        "\n",
        "  f5 = Fire(x1, 32, 128)\n",
        "  f6 = Fire(f5, 48, 192)\n",
        "  f7 = Fire(f6, 48, 192)\n",
        "  f8 = Fire(f7, 64, 256)\n",
        "  x1 = MaxPooling2D(pool_size=3, strides=2, padding='same')(f8)\n",
        "\n",
        "  f8 = Fire(x1, 64, 256)\n",
        "  x1 = Conv2D(filters=classes, kernel_size=1)(f8)\n",
        "  x1 = GlobalAveragePooling2D()(x1)\n",
        "\n",
        "  if classes == 1:\n",
        "    x1 = Activation('sigmoid')(x1)\n",
        "  else:\n",
        "    x1 = Activation('softmax')(x1)\n",
        "\n",
        "  model = Model(inputs=inputs, outputs=x1)\n",
        "  # model.summary()\n",
        "\n",
        "  return model\n",
        "\n"
      ]
    },
    {
      "cell_type": "code",
      "execution_count": 5,
      "metadata": {
        "id": "H_hFuS9Fs4l9",
        "colab": {
          "base_uri": "https://localhost:8080/"
        },
        "outputId": "a1b89ed1-3148-455e-8883-4de880c93fc8"
      },
      "outputs": [
        {
          "output_type": "stream",
          "name": "stdout",
          "text": [
            "WARNING:tensorflow:`period` argument is deprecated. Please use `save_freq` to specify the frequency in number of batches seen.\n"
          ]
        }
      ],
      "source": [
        "from tensorflow.keras.callbacks import ModelCheckpoint, ReduceLROnPlateau, CSVLogger, EarlyStopping\n",
        "import tensorflow as tf\n",
        "\n",
        "\"\"\" callbacks \"\"\"\n",
        "checkpoint_filepath = './SQNet_{epoch}.h5'\n",
        "model_checkpoint_callback = ModelCheckpoint(\n",
        "    filepath=checkpoint_filepath,\n",
        "    save_weights_only=False,\n",
        "    # monitor='val_iou_score',\n",
        "    # mode='max',\n",
        "    verbose = 1,\n",
        "    period = 3,\n",
        "    save_best_only=False)\n",
        "\n",
        "csv_path = \"./SQNet.csv\"\n",
        "callbacks = [\n",
        "    model_checkpoint_callback,\n",
        "    ReduceLROnPlateau(monitor=\"val_loss\", patience=5, factor=0.5, verbose=1),\n",
        "    CSVLogger(csv_path),\n",
        "    EarlyStopping(monitor=\"val_loss\", patience=8)\n",
        "]"
      ]
    },
    {
      "cell_type": "code",
      "execution_count": 6,
      "metadata": {
        "colab": {
          "base_uri": "https://localhost:8080/"
        },
        "id": "AoNLRtGCtAZG",
        "outputId": "3b74ef71-5d48-49cd-e21b-3fb4754e8416"
      },
      "outputs": [
        {
          "output_type": "stream",
          "name": "stdout",
          "text": [
            "Epoch 1/1000\n",
            "63/63 [==============================] - 213s 3s/step - loss: 19.2636 - precision: 0.7906 - recall: 0.0188 - accuracy: 0.2004 - val_loss: 7.2866 - val_precision: 0.0985 - val_recall: 0.0234 - val_accuracy: 0.0592 - lr: 0.0050\n",
            "Epoch 2/1000\n",
            "63/63 [==============================] - 188s 3s/step - loss: 18.6188 - precision: 0.7841 - recall: 0.0257 - accuracy: 0.2283 - val_loss: 5.5598 - val_precision: 0.2068 - val_recall: 0.0358 - val_accuracy: 0.0855 - lr: 0.0050\n",
            "Epoch 3/1000\n",
            "63/63 [==============================] - ETA: 0s - loss: 18.3429 - precision: 0.7737 - recall: 0.0344 - accuracy: 0.2440\n",
            "Epoch 3: saving model to ./SQNet_3.h5\n",
            "63/63 [==============================] - 193s 3s/step - loss: 18.3429 - precision: 0.7737 - recall: 0.0344 - accuracy: 0.2440 - val_loss: 5.7725 - val_precision: 0.1982 - val_recall: 0.0475 - val_accuracy: 0.1023 - lr: 0.0050\n",
            "Epoch 4/1000\n",
            "63/63 [==============================] - 183s 3s/step - loss: 17.9084 - precision: 0.8214 - recall: 0.0429 - accuracy: 0.2521 - val_loss: 5.4569 - val_precision: 0.2407 - val_recall: 0.0475 - val_accuracy: 0.1125 - lr: 0.0050\n",
            "Epoch 5/1000\n",
            "63/63 [==============================] - 182s 3s/step - loss: 17.6563 - precision: 0.7996 - recall: 0.0466 - accuracy: 0.2712 - val_loss: 5.5015 - val_precision: 0.2206 - val_recall: 0.0453 - val_accuracy: 0.0964 - lr: 0.0050\n",
            "Epoch 6/1000\n",
            "63/63 [==============================] - ETA: 0s - loss: 17.2739 - precision: 0.8255 - recall: 0.0564 - accuracy: 0.2925\n",
            "Epoch 6: saving model to ./SQNet_6.h5\n",
            "63/63 [==============================] - 181s 3s/step - loss: 17.2739 - precision: 0.8255 - recall: 0.0564 - accuracy: 0.2925 - val_loss: 5.5772 - val_precision: 0.2143 - val_recall: 0.0504 - val_accuracy: 0.1110 - lr: 0.0050\n",
            "Epoch 7/1000\n",
            "63/63 [==============================] - 184s 3s/step - loss: 16.8816 - precision: 0.8294 - recall: 0.0701 - accuracy: 0.3083 - val_loss: 5.3585 - val_precision: 0.2571 - val_recall: 0.0526 - val_accuracy: 0.1300 - lr: 0.0050\n",
            "Epoch 8/1000\n",
            "63/63 [==============================] - 181s 3s/step - loss: 16.6227 - precision: 0.8336 - recall: 0.0772 - accuracy: 0.3241 - val_loss: 4.9793 - val_precision: 0.2950 - val_recall: 0.0599 - val_accuracy: 0.1300 - lr: 0.0050\n",
            "Epoch 9/1000\n",
            "63/63 [==============================] - ETA: 0s - loss: 16.2187 - precision: 0.8427 - recall: 0.0892 - accuracy: 0.3452\n",
            "Epoch 9: saving model to ./SQNet_9.h5\n",
            "63/63 [==============================] - 183s 3s/step - loss: 16.2187 - precision: 0.8427 - recall: 0.0892 - accuracy: 0.3452 - val_loss: 4.5710 - val_precision: 0.3544 - val_recall: 0.0533 - val_accuracy: 0.1527 - lr: 0.0050\n",
            "Epoch 10/1000\n",
            "63/63 [==============================] - 184s 3s/step - loss: 15.9447 - precision: 0.8298 - recall: 0.0982 - accuracy: 0.3488 - val_loss: 5.1630 - val_precision: 0.2708 - val_recall: 0.0760 - val_accuracy: 0.1563 - lr: 0.0050\n",
            "Epoch 11/1000\n",
            "63/63 [==============================] - 184s 3s/step - loss: 15.7070 - precision: 0.8587 - recall: 0.1088 - accuracy: 0.3724 - val_loss: 4.8627 - val_precision: 0.3304 - val_recall: 0.0825 - val_accuracy: 0.1578 - lr: 0.0050\n",
            "Epoch 12/1000\n",
            "63/63 [==============================] - ETA: 0s - loss: 15.3022 - precision: 0.8503 - recall: 0.1249 - accuracy: 0.3935\n",
            "Epoch 12: saving model to ./SQNet_12.h5\n",
            "63/63 [==============================] - 186s 3s/step - loss: 15.3022 - precision: 0.8503 - recall: 0.1249 - accuracy: 0.3935 - val_loss: 5.4271 - val_precision: 0.2667 - val_recall: 0.0497 - val_accuracy: 0.1103 - lr: 0.0050\n",
            "Epoch 13/1000\n",
            "63/63 [==============================] - 188s 3s/step - loss: 15.0478 - precision: 0.8512 - recall: 0.1315 - accuracy: 0.4035 - val_loss: 4.8514 - val_precision: 0.3737 - val_recall: 0.1059 - val_accuracy: 0.1848 - lr: 0.0050\n",
            "Epoch 14/1000\n",
            "63/63 [==============================] - ETA: 0s - loss: 14.7893 - precision: 0.8761 - recall: 0.1494 - accuracy: 0.4188\n",
            "Epoch 14: ReduceLROnPlateau reducing learning rate to 0.0024999999441206455.\n",
            "63/63 [==============================] - 193s 3s/step - loss: 14.7893 - precision: 0.8761 - recall: 0.1494 - accuracy: 0.4188 - val_loss: 4.8210 - val_precision: 0.3448 - val_recall: 0.0950 - val_accuracy: 0.1760 - lr: 0.0050\n",
            "Epoch 15/1000\n",
            "63/63 [==============================] - ETA: 0s - loss: 13.8832 - precision: 0.8990 - recall: 0.1826 - accuracy: 0.4737\n",
            "Epoch 15: saving model to ./SQNet_15.h5\n",
            "63/63 [==============================] - 192s 3s/step - loss: 13.8832 - precision: 0.8990 - recall: 0.1826 - accuracy: 0.4737 - val_loss: 4.0000 - val_precision: 0.5541 - val_recall: 0.1198 - val_accuracy: 0.2564 - lr: 0.0025\n",
            "Epoch 16/1000\n",
            "63/63 [==============================] - 191s 3s/step - loss: 13.5244 - precision: 0.8911 - recall: 0.1932 - accuracy: 0.4970 - val_loss: 3.6768 - val_precision: 0.6679 - val_recall: 0.1351 - val_accuracy: 0.2973 - lr: 0.0025\n",
            "Epoch 17/1000\n",
            "63/63 [==============================] - 189s 3s/step - loss: 13.3661 - precision: 0.8945 - recall: 0.2055 - accuracy: 0.5057 - val_loss: 3.8308 - val_precision: 0.6411 - val_recall: 0.1344 - val_accuracy: 0.2747 - lr: 0.0025\n",
            "Epoch 18/1000\n",
            "63/63 [==============================] - ETA: 0s - loss: 13.1320 - precision: 0.8984 - recall: 0.2122 - accuracy: 0.5111\n",
            "Epoch 18: saving model to ./SQNet_18.h5\n",
            "63/63 [==============================] - 190s 3s/step - loss: 13.1320 - precision: 0.8984 - recall: 0.2122 - accuracy: 0.5111 - val_loss: 3.6225 - val_precision: 0.6617 - val_recall: 0.1286 - val_accuracy: 0.2980 - lr: 0.0025\n",
            "Epoch 19/1000\n",
            "63/63 [==============================] - 191s 3s/step - loss: 12.9113 - precision: 0.9024 - recall: 0.2252 - accuracy: 0.5284 - val_loss: 3.6871 - val_precision: 0.6696 - val_recall: 0.1110 - val_accuracy: 0.2681 - lr: 0.0025\n",
            "Epoch 20/1000\n",
            "63/63 [==============================] - 186s 3s/step - loss: 12.7962 - precision: 0.8923 - recall: 0.2337 - accuracy: 0.5315 - val_loss: 4.0187 - val_precision: 0.5551 - val_recall: 0.0957 - val_accuracy: 0.2440 - lr: 0.0025\n",
            "Epoch 21/1000\n",
            "63/63 [==============================] - ETA: 0s - loss: 12.6010 - precision: 0.9088 - recall: 0.2466 - accuracy: 0.5458\n",
            "Epoch 21: saving model to ./SQNet_21.h5\n",
            "63/63 [==============================] - 184s 3s/step - loss: 12.6010 - precision: 0.9088 - recall: 0.2466 - accuracy: 0.5458 - val_loss: 3.6092 - val_precision: 0.6846 - val_recall: 0.1300 - val_accuracy: 0.3024 - lr: 0.0025\n",
            "Epoch 22/1000\n",
            "63/63 [==============================] - 184s 3s/step - loss: 12.4301 - precision: 0.9033 - recall: 0.2578 - accuracy: 0.5575 - val_loss: 3.6791 - val_precision: 0.6910 - val_recall: 0.1176 - val_accuracy: 0.2951 - lr: 0.0025\n",
            "Epoch 23/1000\n",
            "63/63 [==============================] - 182s 3s/step - loss: 12.3293 - precision: 0.9173 - recall: 0.2660 - accuracy: 0.5600 - val_loss: 3.5392 - val_precision: 0.7162 - val_recall: 0.1549 - val_accuracy: 0.3185 - lr: 0.0025\n",
            "Epoch 24/1000\n",
            "63/63 [==============================] - ETA: 0s - loss: 12.1140 - precision: 0.9200 - recall: 0.2787 - accuracy: 0.5750\n",
            "Epoch 24: saving model to ./SQNet_24.h5\n",
            "63/63 [==============================] - 183s 3s/step - loss: 12.1140 - precision: 0.9200 - recall: 0.2787 - accuracy: 0.5750 - val_loss: 3.6501 - val_precision: 0.7007 - val_recall: 0.1556 - val_accuracy: 0.3046 - lr: 0.0025\n",
            "Epoch 25/1000\n",
            "63/63 [==============================] - 184s 3s/step - loss: 11.9580 - precision: 0.9046 - recall: 0.2829 - accuracy: 0.5823 - val_loss: 3.7065 - val_precision: 0.6529 - val_recall: 0.1622 - val_accuracy: 0.3214 - lr: 0.0025\n",
            "Epoch 26/1000\n",
            "63/63 [==============================] - 185s 3s/step - loss: 11.8603 - precision: 0.9066 - recall: 0.2955 - accuracy: 0.5904 - val_loss: 3.8026 - val_precision: 0.6654 - val_recall: 0.1249 - val_accuracy: 0.2871 - lr: 0.0025\n",
            "Epoch 27/1000\n",
            "63/63 [==============================] - ETA: 0s - loss: 11.6750 - precision: 0.9176 - recall: 0.3044 - accuracy: 0.5975\n",
            "Epoch 27: saving model to ./SQNet_27.h5\n",
            "63/63 [==============================] - 184s 3s/step - loss: 11.6750 - precision: 0.9176 - recall: 0.3044 - accuracy: 0.5975 - val_loss: 3.6186 - val_precision: 0.7170 - val_recall: 0.1665 - val_accuracy: 0.3287 - lr: 0.0025\n",
            "Epoch 28/1000\n",
            "63/63 [==============================] - ETA: 0s - loss: 11.4701 - precision: 0.9216 - recall: 0.3170 - accuracy: 0.6230\n",
            "Epoch 28: ReduceLROnPlateau reducing learning rate to 0.0012499999720603228.\n",
            "63/63 [==============================] - 184s 3s/step - loss: 11.4701 - precision: 0.9216 - recall: 0.3170 - accuracy: 0.6230 - val_loss: 3.9143 - val_precision: 0.5805 - val_recall: 0.1395 - val_accuracy: 0.2725 - lr: 0.0025\n",
            "Epoch 29/1000\n",
            "63/63 [==============================] - 183s 3s/step - loss: 11.0491 - precision: 0.9361 - recall: 0.3459 - accuracy: 0.6472 - val_loss: 3.5126 - val_precision: 0.7580 - val_recall: 0.1556 - val_accuracy: 0.3353 - lr: 0.0012\n",
            "Epoch 30/1000\n",
            "63/63 [==============================] - ETA: 0s - loss: 10.8138 - precision: 0.9379 - recall: 0.3586 - accuracy: 0.6685\n",
            "Epoch 30: saving model to ./SQNet_30.h5\n",
            "63/63 [==============================] - 184s 3s/step - loss: 10.8138 - precision: 0.9379 - recall: 0.3586 - accuracy: 0.6685 - val_loss: 3.5225 - val_precision: 0.7313 - val_recall: 0.1790 - val_accuracy: 0.3367 - lr: 0.0012\n",
            "Epoch 31/1000\n",
            "63/63 [==============================] - 183s 3s/step - loss: 10.6622 - precision: 0.9447 - recall: 0.3717 - accuracy: 0.6746 - val_loss: 3.5337 - val_precision: 0.7680 - val_recall: 0.1717 - val_accuracy: 0.3316 - lr: 0.0012\n",
            "Epoch 32/1000\n",
            "63/63 [==============================] - 181s 3s/step - loss: 10.5558 - precision: 0.9438 - recall: 0.3797 - accuracy: 0.6827 - val_loss: 3.5810 - val_precision: 0.6758 - val_recall: 0.1797 - val_accuracy: 0.3433 - lr: 0.0012\n",
            "Epoch 33/1000\n",
            "63/63 [==============================] - ETA: 0s - loss: 10.5147 - precision: 0.9460 - recall: 0.3833 - accuracy: 0.6832\n",
            "Epoch 33: saving model to ./SQNet_33.h5\n",
            "63/63 [==============================] - 186s 3s/step - loss: 10.5147 - precision: 0.9460 - recall: 0.3833 - accuracy: 0.6832 - val_loss: 3.4527 - val_precision: 0.7552 - val_recall: 0.1578 - val_accuracy: 0.3287 - lr: 0.0012\n",
            "Epoch 34/1000\n",
            "63/63 [==============================] - 186s 3s/step - loss: 10.5233 - precision: 0.9471 - recall: 0.3826 - accuracy: 0.6859 - val_loss: 3.4880 - val_precision: 0.7403 - val_recall: 0.1812 - val_accuracy: 0.3557 - lr: 0.0012\n",
            "Epoch 35/1000\n",
            "63/63 [==============================] - 187s 3s/step - loss: 10.3720 - precision: 0.9416 - recall: 0.3909 - accuracy: 0.6942 - val_loss: 3.4701 - val_precision: 0.7009 - val_recall: 0.1746 - val_accuracy: 0.3411 - lr: 0.0012\n",
            "Epoch 36/1000\n",
            "63/63 [==============================] - ETA: 0s - loss: 10.3464 - precision: 0.9454 - recall: 0.3981 - accuracy: 0.6981\n",
            "Epoch 36: saving model to ./SQNet_36.h5\n",
            "63/63 [==============================] - 187s 3s/step - loss: 10.3464 - precision: 0.9454 - recall: 0.3981 - accuracy: 0.6981 - val_loss: 3.5745 - val_precision: 0.6648 - val_recall: 0.1753 - val_accuracy: 0.3251 - lr: 0.0012\n",
            "Epoch 37/1000\n",
            "63/63 [==============================] - 187s 3s/step - loss: 10.2665 - precision: 0.9451 - recall: 0.4046 - accuracy: 0.7003 - val_loss: 3.5417 - val_precision: 0.7006 - val_recall: 0.1812 - val_accuracy: 0.3419 - lr: 0.0012\n",
            "Epoch 38/1000\n",
            "63/63 [==============================] - ETA: 0s - loss: 10.1819 - precision: 0.9541 - recall: 0.4055 - accuracy: 0.7122\n",
            "Epoch 38: ReduceLROnPlateau reducing learning rate to 0.0006249999860301614.\n",
            "63/63 [==============================] - 186s 3s/step - loss: 10.1819 - precision: 0.9541 - recall: 0.4055 - accuracy: 0.7122 - val_loss: 3.5415 - val_precision: 0.7324 - val_recall: 0.1819 - val_accuracy: 0.3448 - lr: 0.0012\n",
            "Epoch 39/1000\n",
            "63/63 [==============================] - ETA: 0s - loss: 9.9192 - precision: 0.9518 - recall: 0.4300 - accuracy: 0.7273\n",
            "Epoch 39: saving model to ./SQNet_39.h5\n",
            "63/63 [==============================] - 187s 3s/step - loss: 9.9192 - precision: 0.9518 - recall: 0.4300 - accuracy: 0.7273 - val_loss: 3.4744 - val_precision: 0.7690 - val_recall: 0.1921 - val_accuracy: 0.3543 - lr: 6.2500e-04\n",
            "Epoch 40/1000\n",
            "63/63 [==============================] - 188s 3s/step - loss: 9.8431 - precision: 0.9578 - recall: 0.4369 - accuracy: 0.7376 - val_loss: 3.4907 - val_precision: 0.7312 - val_recall: 0.1987 - val_accuracy: 0.3682 - lr: 6.2500e-04\n",
            "Epoch 41/1000\n",
            "63/63 [==============================] - 188s 3s/step - loss: 9.7513 - precision: 0.9574 - recall: 0.4413 - accuracy: 0.7421 - val_loss: 3.4792 - val_precision: 0.7379 - val_recall: 0.1892 - val_accuracy: 0.3499 - lr: 6.2500e-04\n"
          ]
        }
      ],
      "source": [
        "model = SqueezeNet(input_shape = (224, 224, 3), classes=200)\n",
        "\n",
        "model.compile(\n",
        "    loss=tf.keras.losses.CategoricalCrossentropy(label_smoothing=0.1),\n",
        "    optimizer=tf.keras.optimizers.Adam(0.005),\n",
        "    metrics=['Precision', 'Recall', 'accuracy']\n",
        ")\n",
        "\n",
        "r1 = model.fit(\n",
        "  training_set,\n",
        "  validation_data=valid_set,\n",
        "  batch_size=128,\n",
        "  epochs=1000,\n",
        "  steps_per_epoch=len(training_set),\n",
        "  workers=-1,\n",
        "  use_multiprocessing=True,\n",
        "  validation_steps=len(valid_set),\n",
        "  callbacks=callbacks,\n",
        "  class_weight = cw,\n",
        ")\n",
        "\n",
        "model.save('./SqueezeNet_last.h5')"
      ]
    },
    {
      "cell_type": "code",
      "execution_count": 7,
      "metadata": {
        "id": "6R4A3RhT5dKK",
        "colab": {
          "base_uri": "https://localhost:8080/",
          "height": 517
        },
        "outputId": "482d9cda-36a3-4f13-d259-98810101c601"
      },
      "outputs": [
        {
          "output_type": "display_data",
          "data": {
            "text/plain": [
              "<Figure size 432x288 with 1 Axes>"
            ],
            "image/png": "[encoded data removed]"
          },
          "metadata": {
            "needs_background": "light"
          }
        },
        {
          "output_type": "display_data",
          "data": {
            "text/plain": [
              "<Figure size 432x288 with 1 Axes>"
            ],
            "image/png": "[encoded data removed]"
          },
          "metadata": {
            "needs_background": "light"
          }
        }
      ],
      "source": [
        "import matplotlib.pyplot as plt\n",
        "\n",
        "# loss\n",
        "plt.plot(r1.history['loss'], label='train loss')\n",
        "plt.plot(r1.history['val_loss'], label='val loss')\n",
        "plt.legend()\n",
        "plt.show()\n",
        "\n",
        "# accuracies\n",
        "plt.plot(r1.history['accuracy'], label='train acc')\n",
        "plt.plot(r1.history['val_accuracy'], label='val acc')\n",
        "plt.legend()\n",
        "plt.show()\n"
      ]
    },
    {
      "cell_type": "code",
      "source": [
        "model.evaluate_generator(test_set, steps=64, workers=-1, use_multiprocessing=True)"
      ],
      "metadata": {
        "colab": {
          "base_uri": "https://localhost:8080/"
        },
        "id": "ITrVeacg1Jom",
        "outputId": "d7262986-8ad0-4e7d-f200-b0043566111a"
      },
      "execution_count": 8,
      "outputs": [
        {
          "output_type": "stream",
          "name": "stderr",
          "text": [
            "/usr/local/lib/python3.7/dist-packages/ipykernel_launcher.py:1: UserWarning: `Model.evaluate_generator` is deprecated and will be removed in a future version. Please use `Model.evaluate`, which supports generators.\n",
            "  \"\"\"Entry point for launching an IPython kernel.\n"
          ]
        },
        {
          "output_type": "stream",
          "name": "stdout",
          "text": [
            "WARNING:tensorflow:Your input ran out of data; interrupting training. Make sure that your dataset or generator can generate at least `steps_per_epoch * epochs` batches (in this case, 64 batches). You may need to use the repeat() function when building your dataset.\n"
          ]
        },
        {
          "output_type": "execute_result",
          "data": {
            "text/plain": [
              "[3.5432403087615967,\n",
              " 0.7175043225288391,\n",
              " 0.17438921332359314,\n",
              " 0.35256949067115784]"
            ]
          },
          "metadata": {},
          "execution_count": 8
        }
      ]
    },
    {
      "cell_type": "code",
      "source": [
        ""
      ],
      "metadata": {
        "id": "LSfN91qOsPiN"
      },
      "execution_count": 8,
      "outputs": []
    },
    {
      "cell_type": "markdown",
      "source": [
        "# SQNetSE"
      ],
      "metadata": {
        "id": "hLS-5LfU_5jd"
      }
    },
    {
      "cell_type": "code",
      "source": [
        "import os\n",
        "os.environ[\"TF_CPP_MIN_LOG_LEVEL\"] = \"3\"\n",
        "from keras.layers import Conv2D, BatchNormalization, Activation, MaxPooling2D, Dropout\n",
        "from keras.layers import Concatenate, Input, GlobalAveragePooling2D, Dense, Multiply\n",
        "from keras.models import Model\n",
        "\n",
        "\n",
        "def SqueezeNetSE(input_shape, classes):\n",
        "\n",
        "\n",
        "  def SqueezeAndExcitation(inputs, ratio=8):\n",
        "    \n",
        "    b, h, w, c = inputs.shape\n",
        "    \n",
        "    x = GlobalAveragePooling2D()(inputs)\n",
        "    x = Dense(c//ratio, activation='relu', use_bias=False)(x)\n",
        "    x = Dense(c, activation='sigmoid', use_bias=False)(x)\n",
        "    \n",
        "    x = Multiply()([inputs, x])\n",
        "    \n",
        "    return x\n",
        "\n",
        "\n",
        "  def Fire(inputs, fs, fe):\n",
        "    \n",
        "    s1 = Conv2D(filters=fs, kernel_size=1, padding='same', use_bias=False, activation='relu')(inputs)\n",
        "    s1 = BatchNormalization()(s1)\n",
        "    e1 = Conv2D(filters=fe, kernel_size=1, padding='same', use_bias=False, activation='relu')(s1)\n",
        "    e1 = BatchNormalization()(e1)\n",
        "    e3 = Conv2D(filters=fe, kernel_size=3, padding='same', use_bias=False, activation='relu')(s1)\n",
        "    e3 = BatchNormalization()(e3)\n",
        "\n",
        "    output = Concatenate()([e1, e3])\n",
        "  \n",
        "    return output\n",
        "\n",
        "\n",
        "  inputs = Input(input_shape)\n",
        "  x1 = Conv2D(filters=96, kernel_size=7, strides=2, padding='same', use_bias=False, activation='relu')(inputs)\n",
        "  x1= s1 = BatchNormalization()(x1)\n",
        "  x1 = MaxPooling2D(pool_size=3, strides=2, padding='same')(x1)\n",
        "\n",
        "  f2 = Fire(x1, 16, 64)\n",
        "  f3 = Fire(f2, 16, 64)\n",
        "  f4 = Fire(f3, 32, 128)\n",
        "  f4 = SqueezeAndExcitation(f4, ratio=8)\n",
        "  x1 = MaxPooling2D(pool_size=3, strides=2, padding='same')(f4)\n",
        "\n",
        "  f5 = Fire(x1, 32, 128)\n",
        "  f6 = Fire(f5, 48, 192)\n",
        "  f7 = Fire(f6, 48, 192)\n",
        "  f8 = Fire(f7, 64, 256)\n",
        "  f8 = SqueezeAndExcitation(f8, ratio=8)\n",
        "\n",
        "  x1 = MaxPooling2D(pool_size=3, strides=2, padding='same')(f8)\n",
        "\n",
        "  f8 = Fire(x1, 64, 256)\n",
        "  x1 = Conv2D(filters=classes, kernel_size=1)(f8)\n",
        "  x1 = GlobalAveragePooling2D()(x1)\n",
        "\n",
        "  if classes == 1:\n",
        "    x1 = Activation('sigmoid')(x1)\n",
        "  else:\n",
        "      x1 = Activation('softmax')(x1)\n",
        "\n",
        "  model = Model(inputs=inputs, outputs=x1)\n",
        "  # model.summary()\n",
        "\n",
        "  return model\n"
      ],
      "metadata": {
        "id": "Q9GfGSFAsPfe"
      },
      "execution_count": 11,
      "outputs": []
    },
    {
      "cell_type": "code",
      "source": [
        "from tensorflow.keras.callbacks import ModelCheckpoint, ReduceLROnPlateau, CSVLogger, EarlyStopping\n",
        "import tensorflow as tf\n",
        "\n",
        "\"\"\" callbacks \"\"\"\n",
        "checkpoint_filepath = './SQNetSE_{epoch}.h5'\n",
        "model_checkpoint_callback = ModelCheckpoint(\n",
        "    filepath=checkpoint_filepath,\n",
        "    save_weights_only=False,\n",
        "    # monitor='val_iou_score',\n",
        "    # mode='max',\n",
        "    verbose = 1,\n",
        "    period = 3,\n",
        "    save_best_only=False)\n",
        "\n",
        "csv_path = \"./SQNetSE.csv\"\n",
        "callbacks = [\n",
        "    model_checkpoint_callback,\n",
        "    ReduceLROnPlateau(monitor=\"val_loss\", patience=5, factor=0.5, verbose=1),\n",
        "    CSVLogger(csv_path),\n",
        "    EarlyStopping(monitor=\"val_loss\", patience=7)\n",
        "]"
      ],
      "metadata": {
        "id": "cmygCBocsPdQ",
        "colab": {
          "base_uri": "https://localhost:8080/"
        },
        "outputId": "2b3c2294-cf26-4aa5-9575-18536113adec"
      },
      "execution_count": 12,
      "outputs": [
        {
          "output_type": "stream",
          "name": "stdout",
          "text": [
            "WARNING:tensorflow:`period` argument is deprecated. Please use `save_freq` to specify the frequency in number of batches seen.\n"
          ]
        }
      ]
    },
    {
      "cell_type": "code",
      "source": [
        "model = SqueezeNetSE(input_shape = (224, 224, 3), classes=200)\n",
        "\n",
        "model.compile(\n",
        "    loss=tf.keras.losses.CategoricalCrossentropy(label_smoothing=0.1),\n",
        "    optimizer=tf.keras.optimizers.Adam(0.01),\n",
        "    metrics=['accuracy']\n",
        ")\n",
        "\n",
        "r1 = model.fit(\n",
        "  training_set,\n",
        "  validation_data=valid_set,\n",
        "  batch_size=128,\n",
        "  epochs=1000,\n",
        "  steps_per_epoch=len(training_set),\n",
        "  workers=-1,\n",
        "  use_multiprocessing=True,\n",
        "  validation_steps=len(valid_set),\n",
        "  callbacks=callbacks,\n",
        "  class_weight = cw,\n",
        "\n",
        ")\n",
        "\n",
        "model.save('./SqueezeNetSE_last.h5')\n"
      ],
      "metadata": {
        "id": "-TXjar8bsPak",
        "colab": {
          "base_uri": "https://localhost:8080/"
        },
        "outputId": "a6a6051f-1e3d-4987-b743-cec5d6599075"
      },
      "execution_count": 13,
      "outputs": [
        {
          "output_type": "stream",
          "name": "stdout",
          "text": [
            "Epoch 1/1000\n",
            "63/63 [==============================] - 154s 2s/step - loss: 26.9999 - accuracy: 0.0107 - val_loss: 39.5979 - val_accuracy: 0.0051 - lr: 0.0100\n",
            "Epoch 2/1000\n",
            "63/63 [==============================] - 149s 2s/step - loss: 24.9602 - accuracy: 0.0247 - val_loss: 8.3026 - val_accuracy: 0.0051 - lr: 0.0100\n",
            "Epoch 3/1000\n",
            "63/63 [==============================] - ETA: 0s - loss: 23.7957 - accuracy: 0.0434\n",
            "Epoch 3: saving model to ./SQNetSE_3.h5\n",
            "63/63 [==============================] - 148s 2s/step - loss: 23.7957 - accuracy: 0.0434 - val_loss: 7.0816 - val_accuracy: 0.0110 - lr: 0.0100\n",
            "Epoch 4/1000\n",
            "63/63 [==============================] - 148s 2s/step - loss: 22.6620 - accuracy: 0.0697 - val_loss: 14.4930 - val_accuracy: 0.0073 - lr: 0.0100\n",
            "Epoch 5/1000\n",
            "63/63 [==============================] - 148s 2s/step - loss: 21.7999 - accuracy: 0.0920 - val_loss: 16.3616 - val_accuracy: 0.0110 - lr: 0.0100\n",
            "Epoch 6/1000\n",
            "63/63 [==============================] - ETA: 0s - loss: 20.9397 - accuracy: 0.1233\n",
            "Epoch 6: saving model to ./SQNetSE_6.h5\n",
            "63/63 [==============================] - 149s 2s/step - loss: 20.9397 - accuracy: 0.1233 - val_loss: 22.2983 - val_accuracy: 0.0205 - lr: 0.0100\n",
            "Epoch 7/1000\n",
            "63/63 [==============================] - 148s 2s/step - loss: 20.2197 - accuracy: 0.1505 - val_loss: 20.1261 - val_accuracy: 0.0278 - lr: 0.0100\n",
            "Epoch 8/1000\n",
            "63/63 [==============================] - ETA: 0s - loss: 19.5011 - accuracy: 0.1801\n",
            "Epoch 8: ReduceLROnPlateau reducing learning rate to 0.004999999888241291.\n",
            "63/63 [==============================] - 148s 2s/step - loss: 19.5011 - accuracy: 0.1801 - val_loss: 21.3191 - val_accuracy: 0.0314 - lr: 0.0100\n",
            "Epoch 9/1000\n",
            "63/63 [==============================] - ETA: 0s - loss: 18.2749 - accuracy: 0.2414\n",
            "Epoch 9: saving model to ./SQNetSE_9.h5\n",
            "63/63 [==============================] - 149s 2s/step - loss: 18.2749 - accuracy: 0.2414 - val_loss: 8.9258 - val_accuracy: 0.0811 - lr: 0.0050\n",
            "Epoch 10/1000\n",
            "63/63 [==============================] - 148s 2s/step - loss: 17.5556 - accuracy: 0.2691 - val_loss: 5.4409 - val_accuracy: 0.1191 - lr: 0.0050\n",
            "Epoch 11/1000\n",
            "63/63 [==============================] - 148s 2s/step - loss: 17.1149 - accuracy: 0.2916 - val_loss: 4.8478 - val_accuracy: 0.1271 - lr: 0.0050\n",
            "Epoch 12/1000\n",
            "63/63 [==============================] - ETA: 0s - loss: 16.7741 - accuracy: 0.3080\n",
            "Epoch 12: saving model to ./SQNetSE_12.h5\n",
            "63/63 [==============================] - 148s 2s/step - loss: 16.7741 - accuracy: 0.3080 - val_loss: 4.7189 - val_accuracy: 0.1563 - lr: 0.0050\n",
            "Epoch 13/1000\n",
            "63/63 [==============================] - 148s 2s/step - loss: 16.3342 - accuracy: 0.3364 - val_loss: 5.2582 - val_accuracy: 0.1256 - lr: 0.0050\n",
            "Epoch 14/1000\n",
            "63/63 [==============================] - 148s 2s/step - loss: 15.9307 - accuracy: 0.3458 - val_loss: 4.8088 - val_accuracy: 0.1446 - lr: 0.0050\n",
            "Epoch 15/1000\n",
            "63/63 [==============================] - ETA: 0s - loss: 15.5217 - accuracy: 0.3795\n",
            "Epoch 15: saving model to ./SQNetSE_15.h5\n",
            "63/63 [==============================] - 150s 2s/step - loss: 15.5217 - accuracy: 0.3795 - val_loss: 4.5528 - val_accuracy: 0.1855 - lr: 0.0050\n",
            "Epoch 16/1000\n",
            "63/63 [==============================] - 153s 2s/step - loss: 15.1720 - accuracy: 0.3930 - val_loss: 5.1934 - val_accuracy: 0.1497 - lr: 0.0050\n",
            "Epoch 17/1000\n",
            "63/63 [==============================] - 157s 2s/step - loss: 14.7661 - accuracy: 0.4206 - val_loss: 5.3493 - val_accuracy: 0.1454 - lr: 0.0050\n",
            "Epoch 18/1000\n",
            "63/63 [==============================] - ETA: 0s - loss: 14.4728 - accuracy: 0.4254\n",
            "Epoch 18: saving model to ./SQNetSE_18.h5\n",
            "63/63 [==============================] - 152s 2s/step - loss: 14.4728 - accuracy: 0.4254 - val_loss: 5.5285 - val_accuracy: 0.1227 - lr: 0.0050\n",
            "Epoch 19/1000\n",
            "63/63 [==============================] - 159s 3s/step - loss: 14.0393 - accuracy: 0.4579 - val_loss: 4.6785 - val_accuracy: 0.1863 - lr: 0.0050\n",
            "Epoch 20/1000\n",
            "63/63 [==============================] - 162s 3s/step - loss: 13.7627 - accuracy: 0.4737 - val_loss: 4.2401 - val_accuracy: 0.2126 - lr: 0.0050\n",
            "Epoch 21/1000\n",
            "63/63 [==============================] - ETA: 0s - loss: 13.4166 - accuracy: 0.4970\n",
            "Epoch 21: saving model to ./SQNetSE_21.h5\n",
            "63/63 [==============================] - 154s 2s/step - loss: 13.4166 - accuracy: 0.4970 - val_loss: 4.6656 - val_accuracy: 0.1958 - lr: 0.0050\n",
            "Epoch 22/1000\n",
            "63/63 [==============================] - 151s 2s/step - loss: 13.1486 - accuracy: 0.5064 - val_loss: 4.6942 - val_accuracy: 0.2228 - lr: 0.0050\n",
            "Epoch 23/1000\n",
            "63/63 [==============================] - 150s 2s/step - loss: 12.8292 - accuracy: 0.5259 - val_loss: 3.9304 - val_accuracy: 0.2593 - lr: 0.0050\n",
            "Epoch 24/1000\n",
            "63/63 [==============================] - ETA: 0s - loss: 12.3711 - accuracy: 0.5524\n",
            "Epoch 24: saving model to ./SQNetSE_24.h5\n",
            "63/63 [==============================] - 149s 2s/step - loss: 12.3711 - accuracy: 0.5524 - val_loss: 4.3700 - val_accuracy: 0.2359 - lr: 0.0050\n",
            "Epoch 25/1000\n",
            "63/63 [==============================] - 150s 2s/step - loss: 12.1949 - accuracy: 0.5637 - val_loss: 4.1808 - val_accuracy: 0.2447 - lr: 0.0050\n",
            "Epoch 26/1000\n",
            "63/63 [==============================] - 151s 2s/step - loss: 11.8012 - accuracy: 0.5843 - val_loss: 4.5520 - val_accuracy: 0.2133 - lr: 0.0050\n",
            "Epoch 27/1000\n",
            "63/63 [==============================] - ETA: 0s - loss: 11.6450 - accuracy: 0.5954\n",
            "Epoch 27: saving model to ./SQNetSE_27.h5\n",
            "63/63 [==============================] - 151s 2s/step - loss: 11.6450 - accuracy: 0.5954 - val_loss: 4.3145 - val_accuracy: 0.2345 - lr: 0.0050\n",
            "Epoch 28/1000\n",
            "63/63 [==============================] - ETA: 0s - loss: 11.3629 - accuracy: 0.6123\n",
            "Epoch 28: ReduceLROnPlateau reducing learning rate to 0.0024999999441206455.\n",
            "63/63 [==============================] - 151s 2s/step - loss: 11.3629 - accuracy: 0.6123 - val_loss: 4.2974 - val_accuracy: 0.2469 - lr: 0.0050\n",
            "Epoch 29/1000\n",
            "63/63 [==============================] - 150s 2s/step - loss: 10.3365 - accuracy: 0.6907 - val_loss: 3.5860 - val_accuracy: 0.3141 - lr: 0.0025\n",
            "Epoch 30/1000\n",
            "63/63 [==============================] - ETA: 0s - loss: 9.8516 - accuracy: 0.7337\n",
            "Epoch 30: saving model to ./SQNetSE_30.h5\n",
            "63/63 [==============================] - 149s 2s/step - loss: 9.8516 - accuracy: 0.7337 - val_loss: 3.6349 - val_accuracy: 0.3353 - lr: 0.0025\n",
            "Epoch 31/1000\n",
            "63/63 [==============================] - 150s 2s/step - loss: 9.5734 - accuracy: 0.7439 - val_loss: 3.4799 - val_accuracy: 0.3499 - lr: 0.0025\n",
            "Epoch 32/1000\n",
            "63/63 [==============================] - 150s 2s/step - loss: 9.4265 - accuracy: 0.7564 - val_loss: 3.6773 - val_accuracy: 0.3324 - lr: 0.0025\n",
            "Epoch 33/1000\n",
            "63/63 [==============================] - ETA: 0s - loss: 9.2501 - accuracy: 0.7642\n",
            "Epoch 33: saving model to ./SQNetSE_33.h5\n",
            "63/63 [==============================] - 149s 2s/step - loss: 9.2501 - accuracy: 0.7642 - val_loss: 3.5211 - val_accuracy: 0.3324 - lr: 0.0025\n",
            "Epoch 34/1000\n",
            "63/63 [==============================] - 149s 2s/step - loss: 9.0976 - accuracy: 0.7831 - val_loss: 3.4633 - val_accuracy: 0.3514 - lr: 0.0025\n",
            "Epoch 35/1000\n",
            "63/63 [==============================] - 149s 2s/step - loss: 8.9504 - accuracy: 0.7848 - val_loss: 3.6210 - val_accuracy: 0.3214 - lr: 0.0025\n",
            "Epoch 36/1000\n",
            "63/63 [==============================] - ETA: 0s - loss: 8.7678 - accuracy: 0.7983\n",
            "Epoch 36: saving model to ./SQNetSE_36.h5\n",
            "63/63 [==============================] - 148s 2s/step - loss: 8.7678 - accuracy: 0.7983 - val_loss: 3.6161 - val_accuracy: 0.3302 - lr: 0.0025\n",
            "Epoch 37/1000\n",
            "63/63 [==============================] - 148s 2s/step - loss: 8.6771 - accuracy: 0.8093 - val_loss: 3.6622 - val_accuracy: 0.3455 - lr: 0.0025\n",
            "Epoch 38/1000\n",
            "63/63 [==============================] - 149s 2s/step - loss: 8.5328 - accuracy: 0.8211 - val_loss: 3.7028 - val_accuracy: 0.3229 - lr: 0.0025\n",
            "Epoch 39/1000\n",
            "63/63 [==============================] - ETA: 0s - loss: 8.4385 - accuracy: 0.8252\n",
            "Epoch 39: saving model to ./SQNetSE_39.h5\n",
            "\n",
            "Epoch 39: ReduceLROnPlateau reducing learning rate to 0.0012499999720603228.\n",
            "63/63 [==============================] - 169s 3s/step - loss: 8.4385 - accuracy: 0.8252 - val_loss: 3.5825 - val_accuracy: 0.3492 - lr: 0.0025\n",
            "Epoch 40/1000\n",
            "63/63 [==============================] - 149s 2s/step - loss: 7.8541 - accuracy: 0.8752 - val_loss: 3.4894 - val_accuracy: 0.3587 - lr: 0.0012\n",
            "Epoch 41/1000\n",
            "63/63 [==============================] - 150s 2s/step - loss: 7.6811 - accuracy: 0.8860 - val_loss: 3.4438 - val_accuracy: 0.3711 - lr: 0.0012\n",
            "Epoch 42/1000\n",
            "63/63 [==============================] - ETA: 0s - loss: 7.6150 - accuracy: 0.8922\n",
            "Epoch 42: saving model to ./SQNetSE_42.h5\n",
            "63/63 [==============================] - 149s 2s/step - loss: 7.6150 - accuracy: 0.8922 - val_loss: 3.4903 - val_accuracy: 0.3608 - lr: 0.0012\n",
            "Epoch 43/1000\n",
            "63/63 [==============================] - 149s 2s/step - loss: 7.5573 - accuracy: 0.8977 - val_loss: 3.5019 - val_accuracy: 0.3689 - lr: 0.0012\n",
            "Epoch 44/1000\n",
            "63/63 [==============================] - 149s 2s/step - loss: 7.4797 - accuracy: 0.9012 - val_loss: 3.4982 - val_accuracy: 0.3579 - lr: 0.0012\n",
            "Epoch 45/1000\n",
            "63/63 [==============================] - ETA: 0s - loss: 7.4253 - accuracy: 0.9035\n",
            "Epoch 45: saving model to ./SQNetSE_45.h5\n",
            "63/63 [==============================] - 149s 2s/step - loss: 7.4253 - accuracy: 0.9035 - val_loss: 3.4990 - val_accuracy: 0.3660 - lr: 0.0012\n",
            "Epoch 46/1000\n",
            "63/63 [==============================] - ETA: 0s - loss: 7.3423 - accuracy: 0.9119\n",
            "Epoch 46: ReduceLROnPlateau reducing learning rate to 0.0006249999860301614.\n",
            "63/63 [==============================] - 149s 2s/step - loss: 7.3423 - accuracy: 0.9119 - val_loss: 3.5591 - val_accuracy: 0.3521 - lr: 0.0012\n",
            "Epoch 47/1000\n",
            "63/63 [==============================] - 149s 2s/step - loss: 7.1134 - accuracy: 0.9285 - val_loss: 3.4618 - val_accuracy: 0.3806 - lr: 6.2500e-04\n",
            "Epoch 48/1000\n",
            "63/63 [==============================] - ETA: 0s - loss: 7.0287 - accuracy: 0.9350\n",
            "Epoch 48: saving model to ./SQNetSE_48.h5\n",
            "63/63 [==============================] - 149s 2s/step - loss: 7.0287 - accuracy: 0.9350 - val_loss: 3.4638 - val_accuracy: 0.3784 - lr: 6.2500e-04\n"
          ]
        }
      ]
    },
    {
      "cell_type": "code",
      "source": [
        "import matplotlib.pyplot as plt\n",
        "\n",
        "# loss\n",
        "plt.plot(r1.history['loss'], label='train loss')\n",
        "plt.plot(r1.history['val_loss'], label='val loss')\n",
        "plt.legend()\n",
        "plt.show()+\n",
        "\n",
        "# accuracies\n",
        "plt.plot(r1.history['accuracy'], label='train acc')\n",
        "plt.plot(r1.history['val_accuracy'], label='val acc')\n",
        "plt.legend()\n",
        "plt.show()\n"
      ],
      "metadata": {
        "id": "Fij5hQ_tsPXk",
        "colab": {
          "base_uri": "https://localhost:8080/",
          "height": 513
        },
        "outputId": "e9babfb9-a035-497d-8ffc-753d32cc12ec"
      },
      "execution_count": 14,
      "outputs": [
        {
          "output_type": "display_data",
          "data": {
            "text/plain": [
              "<Figure size 432x288 with 1 Axes>"
            ],
            "image/png": "[encoded data removed]"
          },
          "metadata": {
            "needs_background": "light"
          }
        },
        {
          "output_type": "display_data",
          "data": {
            "text/plain": [
              "<Figure size 432x288 with 1 Axes>"
            ],
            "image/png": "[encoded data removed]"
          },
          "metadata": {
            "needs_background": "light"
          }
        }
      ]
    },
    {
      "cell_type": "code",
      "source": [
        "model.evaluate_generator(test_set, steps=64, workers=-1, use_multiprocessing=True)"
      ],
      "metadata": {
        "id": "uZcYi6rgtNU8",
        "colab": {
          "base_uri": "https://localhost:8080/"
        },
        "outputId": "162a16e3-ac69-463e-bf75-f217c0e2661b"
      },
      "execution_count": 15,
      "outputs": [
        {
          "output_type": "stream",
          "name": "stderr",
          "text": [
            "/usr/local/lib/python3.7/dist-packages/ipykernel_launcher.py:1: UserWarning: `Model.evaluate_generator` is deprecated and will be removed in a future version. Please use `Model.evaluate`, which supports generators.\n",
            "  \"\"\"Entry point for launching an IPython kernel.\n"
          ]
        },
        {
          "output_type": "stream",
          "name": "stdout",
          "text": [
            "WARNING:tensorflow:Your input ran out of data; interrupting training. Make sure that your dataset or generator can generate at least `steps_per_epoch * epochs` batches (in this case, 64 batches). You may need to use the repeat() function when building your dataset.\n"
          ]
        },
        {
          "output_type": "execute_result",
          "data": {
            "text/plain": [
              "[3.5015084743499756, 0.3770008385181427]"
            ]
          },
          "metadata": {},
          "execution_count": 15
        }
      ]
    },
    {
      "cell_type": "code",
      "source": [
        ""
      ],
      "metadata": {
        "id": "6C4n5qo05cFg"
      },
      "execution_count": null,
      "outputs": []
    }
  ],
  "metadata": {
    "accelerator": "GPU",
    "colab": {
      "collapsed_sections": [],
      "name": "SQNET_birds200.ipynb",
      "provenance": []
    },
    "kernelspec": {
      "display_name": "Python 3",
      "language": "python",
      "name": "python3"
    },
    "language_info": {
      "codemirror_mode": {
        "name": "ipython",
        "version": 3
      },
      "file_extension": ".py",
      "mimetype": "text/x-python",
      "name": "python",
      "nbconvert_exporter": "python",
      "pygments_lexer": "ipython3",
      "version": "3.6.6"
    }
  },
  "nbformat": 4,
  "nbformat_minor": 0
}