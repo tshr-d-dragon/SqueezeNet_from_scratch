{
  "cells": [
    {
      "cell_type": "code",
      "source": [
        "!nvidia-smi"
      ],
      "metadata": {
        "colab": {
          "base_uri": "https://localhost:8080/"
        },
        "id": "emsZye9ZM0py",
        "outputId": "2693165e-169d-43ba-9145-d72e6766e1b6"
      },
      "execution_count": 1,
      "outputs": [
        {
          "output_type": "stream",
          "name": "stdout",
          "text": [
            "Tue May  3 09:17:42 2022       \n",
            "+-----------------------------------------------------------------------------+\n",
            "| NVIDIA-SMI 460.32.03    Driver Version: 460.32.03    CUDA Version: 11.2     |\n",
            "|-------------------------------+----------------------+----------------------+\n",
            "| GPU  Name        Persistence-M| Bus-Id        Disp.A | Volatile Uncorr. ECC |\n",
            "| Fan  Temp  Perf  Pwr:Usage/Cap|         Memory-Usage | GPU-Util  Compute M. |\n",
            "|                               |                      |               MIG M. |\n",
            "|===============================+======================+======================|\n",
            "|   0  Tesla K80           Off  | 00000000:00:04.0 Off |                    0 |\n",
            "| N/A   69C    P8    33W / 149W |      0MiB / 11441MiB |      0%      Default |\n",
            "|                               |                      |                  N/A |\n",
            "+-------------------------------+----------------------+----------------------+\n",
            "                                                                               \n",
            "+-----------------------------------------------------------------------------+\n",
            "| Processes:                                                                  |\n",
            "|  GPU   GI   CI        PID   Type   Process name                  GPU Memory |\n",
            "|        ID   ID                                                   Usage      |\n",
            "|=============================================================================|\n",
            "|  No running processes found                                                 |\n",
            "+-----------------------------------------------------------------------------+\n"
          ]
        }
      ]
    },
    {
      "cell_type": "markdown",
      "source": [
        "# Load Dataset"
      ],
      "metadata": {
        "id": "2i9OtNd_M61A"
      }
    },
    {
      "cell_type": "code",
      "source": [
        "from keras.datasets import cifar10\n",
        "from tensorflow.keras.utils import to_categorical"
      ],
      "metadata": {
        "id": "NxRbkqiZohGp"
      },
      "execution_count": 2,
      "outputs": []
    },
    {
      "cell_type": "code",
      "source": [
        "# load train and test dataset\n",
        "def load_dataset():\n",
        "\t# load dataset\n",
        "\t(trainX, trainY), (testX, testY) = cifar10.load_data()\n",
        "\t# one hot encode target values\n",
        "\ttrainY = to_categorical(trainY)\n",
        "\ttestY = to_categorical(testY)\n",
        "\treturn trainX, trainY, testX, testY\n",
        " \n",
        "# scale pixels\n",
        "def prep_pixels(train, test):\n",
        "\t# convert from integers to floats\n",
        "\ttrain_norm = train.astype('float32')\n",
        "\ttest_norm = test.astype('float32')\n",
        "\t# normalize to range 0-1\n",
        "\ttrain_norm = train_norm / 255.0\n",
        "\ttest_norm = test_norm / 255.0\n",
        "\t# return normalized images\n",
        "\treturn train_norm, test_norm"
      ],
      "metadata": {
        "id": "EpqzV4y0ohDp"
      },
      "execution_count": 3,
      "outputs": []
    },
    {
      "cell_type": "code",
      "source": [
        "trainX, trainY, testX, testY = load_dataset()\n",
        "# prepare pixel data\n",
        "trainX, testX = prep_pixels(trainX, testX)"
      ],
      "metadata": {
        "id": "ppkQSsU9ohA8"
      },
      "execution_count": 4,
      "outputs": []
    },
    {
      "cell_type": "code",
      "source": [
        "from sklearn.model_selection import train_test_split\n",
        "trainX, valX, trainY, valY = train_test_split(trainX, trainY, test_size = 0.15, random_state=42, shuffle=True, stratify=trainY)"
      ],
      "metadata": {
        "id": "QzFFL8JZI492"
      },
      "execution_count": 5,
      "outputs": []
    },
    {
      "cell_type": "markdown",
      "source": [
        "# SQNet"
      ],
      "metadata": {
        "id": "VXWvsn9zNAA9"
      }
    },
    {
      "cell_type": "code",
      "source": [
        "import os\n",
        "os.environ[\"TF_CPP_MIN_LOG_LEVEL\"] = \"3\"\n",
        "from keras.layers import Conv2D, BatchNormalization, Activation, MaxPooling2D, Dropout\n",
        "from keras.layers import Concatenate, Input, GlobalAveragePooling2D, Dense\n",
        "from keras.models import Model\n",
        "\n",
        "\n",
        "def SqueezeNet(input_shape, classes):\n",
        "\n",
        "\n",
        "  def Fire(inputs, fs, fe):\n",
        "    \n",
        "    s1 = Conv2D(filters=fs, kernel_size=1, padding='same', use_bias=False, activation='relu')(inputs)\n",
        "    s1 = BatchNormalization()(s1)\n",
        "    e1 = Conv2D(filters=fe, kernel_size=1, padding='same', use_bias=False, activation='relu')(s1)\n",
        "    e1 = BatchNormalization()(e1)\n",
        "    e3 = Conv2D(filters=fe, kernel_size=3, padding='same', use_bias=False, activation='relu')(s1)\n",
        "    e3 = BatchNormalization()(e3)\n",
        "\n",
        "    output = Concatenate()([e1, e3])\n",
        "  \n",
        "    return output\n",
        "\n",
        "\n",
        "  inputs = Input(input_shape)\n",
        "  x1 = Conv2D(filters=96, kernel_size=7, strides=2, padding='same', use_bias=False, activation='relu')(inputs)\n",
        "  x1= s1 = BatchNormalization()(x1)\n",
        "  x1 = MaxPooling2D(pool_size=3, strides=2, padding='same')(x1)\n",
        "\n",
        "  f2 = Fire(x1, 16, 64)\n",
        "  f3 = Fire(f2, 16, 64)\n",
        "  f4 = Fire(f3, 32, 128)\n",
        "  x1 = MaxPooling2D(pool_size=3, strides=2, padding='same')(f4)\n",
        "\n",
        "  f5 = Fire(x1, 32, 128)\n",
        "  f6 = Fire(f5, 48, 192)\n",
        "  f7 = Fire(f6, 48, 192)\n",
        "  f8 = Fire(f7, 64, 256)\n",
        "  x1 = MaxPooling2D(pool_size=3, strides=2, padding='same')(f8)\n",
        "\n",
        "  f8 = Fire(x1, 64, 256)\n",
        "  x1 = Conv2D(filters=classes, kernel_size=1)(f8)\n",
        "  x1 = GlobalAveragePooling2D()(x1)\n",
        "\n",
        "  if classes == 1:\n",
        "    x1 = Activation('sigmoid')(x1)\n",
        "  else:\n",
        "    x1 = Activation('softmax')(x1)\n",
        "\n",
        "  model = Model(inputs=inputs, outputs=x1)\n",
        "  # model.summary()\n",
        "\n",
        "  return model\n",
        "\n",
        "mdoel = SqueezeNet(input_shape=(224, 224, 3), classes=10)"
      ],
      "metadata": {
        "id": "14n5iyGbog-i"
      },
      "execution_count": 6,
      "outputs": []
    },
    {
      "cell_type": "code",
      "source": [
        "from tensorflow.keras.callbacks import ModelCheckpoint, ReduceLROnPlateau, CSVLogger, EarlyStopping\n",
        "import tensorflow as tf\n",
        "\n",
        "\"\"\" callbacks \"\"\"\n",
        "checkpoint_filepath = '/content/SQNET_{epoch}.h5'\n",
        "model_checkpoint_callback = ModelCheckpoint(\n",
        "    filepath=checkpoint_filepath,\n",
        "    save_weights_only=False,\n",
        "    # monitor='val_iou_score',\n",
        "    # mode='max',\n",
        "    verbose = 1,\n",
        "    period = 5,\n",
        "    save_best_only=False\n",
        "    )\n",
        "\n",
        "callbacks = [\n",
        "    model_checkpoint_callback,\n",
        "    ReduceLROnPlateau(monitor=\"val_loss\", patience=5, factor=0.5, verbose=1),\n",
        "    CSVLogger('/content/SQNET.csv'),\n",
        "    EarlyStopping(monitor=\"val_loss\", patience=8)\n",
        "]"
      ],
      "metadata": {
        "colab": {
          "base_uri": "https://localhost:8080/"
        },
        "id": "JTsedMyJog8E",
        "outputId": "a7304698-873b-4d9a-8aa7-2a57ab0eba6e"
      },
      "execution_count": 7,
      "outputs": [
        {
          "output_type": "stream",
          "name": "stdout",
          "text": [
            "WARNING:tensorflow:`period` argument is deprecated. Please use `save_freq` to specify the frequency in number of batches seen.\n"
          ]
        }
      ]
    },
    {
      "cell_type": "code",
      "source": [
        "model = SqueezeNet(input_shape = (32, 32, 3), classes=10)\n",
        "\n",
        "model.compile(\n",
        "    loss='categorical_crossentropy',\n",
        "    optimizer=tf.keras.optimizers.Adam(),\n",
        "    metrics=['accuracy']\n",
        ")"
      ],
      "metadata": {
        "id": "NJfg6xhwog5d"
      },
      "execution_count": 8,
      "outputs": []
    },
    {
      "cell_type": "code",
      "source": [
        "r1 = model.fit(\n",
        "    trainX, trainY,\n",
        "    validation_data=(valX, valY),\n",
        "    epochs=100,\n",
        "    batch_size=128,\n",
        "    steps_per_epoch=len(trainX)//128 + 1,\n",
        "    validation_steps=len(valX)//128 + 1,\n",
        "    callbacks=callbacks,\n",
        "    workers=1,\n",
        "    use_multiprocessing=True,\n",
        ")"
      ],
      "metadata": {
        "colab": {
          "base_uri": "https://localhost:8080/"
        },
        "id": "No4EKQq5og21",
        "outputId": "a7823199-4ad2-4320-823d-ddc5451bba7b"
      },
      "execution_count": 9,
      "outputs": [
        {
          "output_type": "stream",
          "name": "stdout",
          "text": [
            "Epoch 1/100\n",
            "333/333 [==============================] - 29s 59ms/step - loss: 1.8030 - accuracy: 0.3450 - val_loss: 2.9986 - val_accuracy: 0.2045 - lr: 0.0010\n",
            "Epoch 2/100\n",
            "333/333 [==============================] - 16s 49ms/step - loss: 1.4680 - accuracy: 0.4645 - val_loss: 2.2547 - val_accuracy: 0.2709 - lr: 0.0010\n",
            "Epoch 3/100\n",
            "333/333 [==============================] - 16s 47ms/step - loss: 1.3673 - accuracy: 0.5028 - val_loss: 1.9375 - val_accuracy: 0.3676 - lr: 0.0010\n",
            "Epoch 4/100\n",
            "333/333 [==============================] - 16s 48ms/step - loss: 1.1921 - accuracy: 0.5732 - val_loss: 1.2786 - val_accuracy: 0.5600 - lr: 0.0010\n",
            "Epoch 5/100\n",
            "332/333 [============================>.] - ETA: 0s - loss: 1.0741 - accuracy: 0.6169\n",
            "Epoch 5: val_loss improved from inf to 1.40558, saving model to /content/SQNET_5.h5\n",
            "333/333 [==============================] - 16s 49ms/step - loss: 1.0741 - accuracy: 0.6168 - val_loss: 1.4056 - val_accuracy: 0.5284 - lr: 0.0010\n",
            "Epoch 6/100\n",
            "333/333 [==============================] - 17s 50ms/step - loss: 0.9965 - accuracy: 0.6439 - val_loss: 1.6645 - val_accuracy: 0.4693 - lr: 0.0010\n",
            "Epoch 7/100\n",
            "333/333 [==============================] - 16s 49ms/step - loss: 0.9538 - accuracy: 0.6628 - val_loss: 1.6555 - val_accuracy: 0.4839 - lr: 0.0010\n",
            "Epoch 8/100\n",
            "333/333 [==============================] - 17s 52ms/step - loss: 1.0499 - accuracy: 0.6292 - val_loss: 1.5737 - val_accuracy: 0.5041 - lr: 0.0010\n",
            "Epoch 9/100\n",
            "333/333 [==============================] - 16s 49ms/step - loss: 0.8520 - accuracy: 0.6998 - val_loss: 1.0843 - val_accuracy: 0.6412 - lr: 0.0010\n",
            "Epoch 10/100\n",
            "332/333 [============================>.] - ETA: 0s - loss: 0.7626 - accuracy: 0.7305\n",
            "Epoch 10: val_loss improved from 1.40558 to 1.37574, saving model to /content/SQNET_10.h5\n",
            "333/333 [==============================] - 16s 49ms/step - loss: 0.7626 - accuracy: 0.7305 - val_loss: 1.3757 - val_accuracy: 0.5549 - lr: 0.0010\n",
            "Epoch 11/100\n",
            "333/333 [==============================] - 16s 48ms/step - loss: 0.6799 - accuracy: 0.7600 - val_loss: 1.0559 - val_accuracy: 0.6529 - lr: 0.0010\n",
            "Epoch 12/100\n",
            "333/333 [==============================] - 16s 48ms/step - loss: 0.6242 - accuracy: 0.7788 - val_loss: 1.3756 - val_accuracy: 0.5725 - lr: 0.0010\n",
            "Epoch 13/100\n",
            "333/333 [==============================] - 16s 48ms/step - loss: 0.6364 - accuracy: 0.7744 - val_loss: 0.9979 - val_accuracy: 0.6767 - lr: 0.0010\n",
            "Epoch 14/100\n",
            "333/333 [==============================] - 16s 48ms/step - loss: 0.5582 - accuracy: 0.8037 - val_loss: 1.2920 - val_accuracy: 0.6219 - lr: 0.0010\n",
            "Epoch 15/100\n",
            "332/333 [============================>.] - ETA: 0s - loss: 0.4757 - accuracy: 0.8324\n",
            "Epoch 15: val_loss improved from 1.37574 to 1.05868, saving model to /content/SQNET_15.h5\n",
            "333/333 [==============================] - 16s 49ms/step - loss: 0.4758 - accuracy: 0.8324 - val_loss: 1.0587 - val_accuracy: 0.6799 - lr: 0.0010\n",
            "Epoch 16/100\n",
            "333/333 [==============================] - 16s 49ms/step - loss: 0.4705 - accuracy: 0.8322 - val_loss: 1.2465 - val_accuracy: 0.6447 - lr: 0.0010\n",
            "Epoch 17/100\n",
            "333/333 [==============================] - 16s 49ms/step - loss: 0.4003 - accuracy: 0.8566 - val_loss: 1.5434 - val_accuracy: 0.5727 - lr: 0.0010\n",
            "Epoch 18/100\n",
            "332/333 [============================>.] - ETA: 0s - loss: 0.5230 - accuracy: 0.8158\n",
            "Epoch 18: ReduceLROnPlateau reducing learning rate to 0.0005000000237487257.\n",
            "333/333 [==============================] - 16s 48ms/step - loss: 0.5230 - accuracy: 0.8157 - val_loss: 1.6281 - val_accuracy: 0.5684 - lr: 0.0010\n",
            "Epoch 19/100\n",
            "333/333 [==============================] - 16s 49ms/step - loss: 0.2654 - accuracy: 0.9080 - val_loss: 1.2661 - val_accuracy: 0.6837 - lr: 5.0000e-04\n",
            "Epoch 20/100\n",
            "332/333 [============================>.] - ETA: 0s - loss: 0.2032 - accuracy: 0.9297\n",
            "Epoch 20: val_loss did not improve from 1.05868\n",
            "333/333 [==============================] - 16s 49ms/step - loss: 0.2032 - accuracy: 0.9296 - val_loss: 1.2835 - val_accuracy: 0.6973 - lr: 5.0000e-04\n",
            "Epoch 21/100\n",
            "333/333 [==============================] - 17s 50ms/step - loss: 0.1455 - accuracy: 0.9484 - val_loss: 1.6161 - val_accuracy: 0.6635 - lr: 5.0000e-04\n"
          ]
        }
      ]
    },
    {
      "cell_type": "code",
      "source": [
        "model.evaluate(testX, testY, batch_size=128, workers=1, use_multiprocessing=True)"
      ],
      "metadata": {
        "colab": {
          "base_uri": "https://localhost:8080/"
        },
        "id": "QyXC-IQkJ25i",
        "outputId": "dfa42aa1-8185-49b3-9f96-faed792cd880"
      },
      "execution_count": 10,
      "outputs": [
        {
          "output_type": "stream",
          "name": "stdout",
          "text": [
            "79/79 [==============================] - 2s 23ms/step - loss: 1.7289 - accuracy: 0.6419\n"
          ]
        },
        {
          "output_type": "execute_result",
          "data": {
            "text/plain": [
              "[1.7289478778839111, 0.6419000029563904]"
            ]
          },
          "metadata": {},
          "execution_count": 10
        }
      ]
    },
    {
      "cell_type": "code",
      "source": [
        "import matplotlib.pyplot as plt\n",
        "\n",
        "# loss\n",
        "plt.plot(r1.history['loss'], label='train loss')\n",
        "plt.plot(r1.history['val_loss'], label='val loss')\n",
        "plt.legend()\n",
        "plt.show()\n",
        "\n",
        "# accuracies\n",
        "plt.plot(r1.history['accuracy'], label='train acc')\n",
        "plt.plot(r1.history['val_accuracy'], label='val acc')\n",
        "plt.legend()\n",
        "plt.show()\n",
        "\n",
        "model.save('./SQNet.h5')\n"
      ],
      "metadata": {
        "id": "mv6JvU8YvMMO"
      },
      "execution_count": null,
      "outputs": []
    },
    {
      "cell_type": "code",
      "source": [
        "model.summary()"
      ],
      "metadata": {
        "id": "k_OcH4DUvMKU",
        "colab": {
          "base_uri": "https://localhost:8080/"
        },
        "outputId": "84853cc4-7221-48a4-d18c-a2b3973ce933"
      },
      "execution_count": 12,
      "outputs": [
        {
          "output_type": "stream",
          "name": "stdout",
          "text": [
            "Model: \"model_1\"\n",
            "__________________________________________________________________________________________________\n",
            " Layer (type)                   Output Shape         Param #     Connected to                     \n",
            "==================================================================================================\n",
            " input_2 (InputLayer)           [(None, 32, 32, 3)]  0           []                               \n",
            "                                                                                                  \n",
            " conv2d_26 (Conv2D)             (None, 16, 16, 96)   14112       ['input_2[0][0]']                \n",
            "                                                                                                  \n",
            " batch_normalization_25 (BatchN  (None, 16, 16, 96)  384         ['conv2d_26[0][0]']              \n",
            " ormalization)                                                                                    \n",
            "                                                                                                  \n",
            " max_pooling2d_3 (MaxPooling2D)  (None, 8, 8, 96)    0           ['batch_normalization_25[0][0]'] \n",
            "                                                                                                  \n",
            " conv2d_27 (Conv2D)             (None, 8, 8, 16)     1536        ['max_pooling2d_3[0][0]']        \n",
            "                                                                                                  \n",
            " batch_normalization_26 (BatchN  (None, 8, 8, 16)    64          ['conv2d_27[0][0]']              \n",
            " ormalization)                                                                                    \n",
            "                                                                                                  \n",
            " conv2d_28 (Conv2D)             (None, 8, 8, 64)     1024        ['batch_normalization_26[0][0]'] \n",
            "                                                                                                  \n",
            " conv2d_29 (Conv2D)             (None, 8, 8, 64)     9216        ['batch_normalization_26[0][0]'] \n",
            "                                                                                                  \n",
            " batch_normalization_27 (BatchN  (None, 8, 8, 64)    256         ['conv2d_28[0][0]']              \n",
            " ormalization)                                                                                    \n",
            "                                                                                                  \n",
            " batch_normalization_28 (BatchN  (None, 8, 8, 64)    256         ['conv2d_29[0][0]']              \n",
            " ormalization)                                                                                    \n",
            "                                                                                                  \n",
            " concatenate_8 (Concatenate)    (None, 8, 8, 128)    0           ['batch_normalization_27[0][0]', \n",
            "                                                                  'batch_normalization_28[0][0]'] \n",
            "                                                                                                  \n",
            " conv2d_30 (Conv2D)             (None, 8, 8, 16)     2048        ['concatenate_8[0][0]']          \n",
            "                                                                                                  \n",
            " batch_normalization_29 (BatchN  (None, 8, 8, 16)    64          ['conv2d_30[0][0]']              \n",
            " ormalization)                                                                                    \n",
            "                                                                                                  \n",
            " conv2d_31 (Conv2D)             (None, 8, 8, 64)     1024        ['batch_normalization_29[0][0]'] \n",
            "                                                                                                  \n",
            " conv2d_32 (Conv2D)             (None, 8, 8, 64)     9216        ['batch_normalization_29[0][0]'] \n",
            "                                                                                                  \n",
            " batch_normalization_30 (BatchN  (None, 8, 8, 64)    256         ['conv2d_31[0][0]']              \n",
            " ormalization)                                                                                    \n",
            "                                                                                                  \n",
            " batch_normalization_31 (BatchN  (None, 8, 8, 64)    256         ['conv2d_32[0][0]']              \n",
            " ormalization)                                                                                    \n",
            "                                                                                                  \n",
            " concatenate_9 (Concatenate)    (None, 8, 8, 128)    0           ['batch_normalization_30[0][0]', \n",
            "                                                                  'batch_normalization_31[0][0]'] \n",
            "                                                                                                  \n",
            " conv2d_33 (Conv2D)             (None, 8, 8, 32)     4096        ['concatenate_9[0][0]']          \n",
            "                                                                                                  \n",
            " batch_normalization_32 (BatchN  (None, 8, 8, 32)    128         ['conv2d_33[0][0]']              \n",
            " ormalization)                                                                                    \n",
            "                                                                                                  \n",
            " conv2d_34 (Conv2D)             (None, 8, 8, 128)    4096        ['batch_normalization_32[0][0]'] \n",
            "                                                                                                  \n",
            " conv2d_35 (Conv2D)             (None, 8, 8, 128)    36864       ['batch_normalization_32[0][0]'] \n",
            "                                                                                                  \n",
            " batch_normalization_33 (BatchN  (None, 8, 8, 128)   512         ['conv2d_34[0][0]']              \n",
            " ormalization)                                                                                    \n",
            "                                                                                                  \n",
            " batch_normalization_34 (BatchN  (None, 8, 8, 128)   512         ['conv2d_35[0][0]']              \n",
            " ormalization)                                                                                    \n",
            "                                                                                                  \n",
            " concatenate_10 (Concatenate)   (None, 8, 8, 256)    0           ['batch_normalization_33[0][0]', \n",
            "                                                                  'batch_normalization_34[0][0]'] \n",
            "                                                                                                  \n",
            " max_pooling2d_4 (MaxPooling2D)  (None, 4, 4, 256)   0           ['concatenate_10[0][0]']         \n",
            "                                                                                                  \n",
            " conv2d_36 (Conv2D)             (None, 4, 4, 32)     8192        ['max_pooling2d_4[0][0]']        \n",
            "                                                                                                  \n",
            " batch_normalization_35 (BatchN  (None, 4, 4, 32)    128         ['conv2d_36[0][0]']              \n",
            " ormalization)                                                                                    \n",
            "                                                                                                  \n",
            " conv2d_37 (Conv2D)             (None, 4, 4, 128)    4096        ['batch_normalization_35[0][0]'] \n",
            "                                                                                                  \n",
            " conv2d_38 (Conv2D)             (None, 4, 4, 128)    36864       ['batch_normalization_35[0][0]'] \n",
            "                                                                                                  \n",
            " batch_normalization_36 (BatchN  (None, 4, 4, 128)   512         ['conv2d_37[0][0]']              \n",
            " ormalization)                                                                                    \n",
            "                                                                                                  \n",
            " batch_normalization_37 (BatchN  (None, 4, 4, 128)   512         ['conv2d_38[0][0]']              \n",
            " ormalization)                                                                                    \n",
            "                                                                                                  \n",
            " concatenate_11 (Concatenate)   (None, 4, 4, 256)    0           ['batch_normalization_36[0][0]', \n",
            "                                                                  'batch_normalization_37[0][0]'] \n",
            "                                                                                                  \n",
            " conv2d_39 (Conv2D)             (None, 4, 4, 48)     12288       ['concatenate_11[0][0]']         \n",
            "                                                                                                  \n",
            " batch_normalization_38 (BatchN  (None, 4, 4, 48)    192         ['conv2d_39[0][0]']              \n",
            " ormalization)                                                                                    \n",
            "                                                                                                  \n",
            " conv2d_40 (Conv2D)             (None, 4, 4, 192)    9216        ['batch_normalization_38[0][0]'] \n",
            "                                                                                                  \n",
            " conv2d_41 (Conv2D)             (None, 4, 4, 192)    82944       ['batch_normalization_38[0][0]'] \n",
            "                                                                                                  \n",
            " batch_normalization_39 (BatchN  (None, 4, 4, 192)   768         ['conv2d_40[0][0]']              \n",
            " ormalization)                                                                                    \n",
            "                                                                                                  \n",
            " batch_normalization_40 (BatchN  (None, 4, 4, 192)   768         ['conv2d_41[0][0]']              \n",
            " ormalization)                                                                                    \n",
            "                                                                                                  \n",
            " concatenate_12 (Concatenate)   (None, 4, 4, 384)    0           ['batch_normalization_39[0][0]', \n",
            "                                                                  'batch_normalization_40[0][0]'] \n",
            "                                                                                                  \n",
            " conv2d_42 (Conv2D)             (None, 4, 4, 48)     18432       ['concatenate_12[0][0]']         \n",
            "                                                                                                  \n",
            " batch_normalization_41 (BatchN  (None, 4, 4, 48)    192         ['conv2d_42[0][0]']              \n",
            " ormalization)                                                                                    \n",
            "                                                                                                  \n",
            " conv2d_43 (Conv2D)             (None, 4, 4, 192)    9216        ['batch_normalization_41[0][0]'] \n",
            "                                                                                                  \n",
            " conv2d_44 (Conv2D)             (None, 4, 4, 192)    82944       ['batch_normalization_41[0][0]'] \n",
            "                                                                                                  \n",
            " batch_normalization_42 (BatchN  (None, 4, 4, 192)   768         ['conv2d_43[0][0]']              \n",
            " ormalization)                                                                                    \n",
            "                                                                                                  \n",
            " batch_normalization_43 (BatchN  (None, 4, 4, 192)   768         ['conv2d_44[0][0]']              \n",
            " ormalization)                                                                                    \n",
            "                                                                                                  \n",
            " concatenate_13 (Concatenate)   (None, 4, 4, 384)    0           ['batch_normalization_42[0][0]', \n",
            "                                                                  'batch_normalization_43[0][0]'] \n",
            "                                                                                                  \n",
            " conv2d_45 (Conv2D)             (None, 4, 4, 64)     24576       ['concatenate_13[0][0]']         \n",
            "                                                                                                  \n",
            " batch_normalization_44 (BatchN  (None, 4, 4, 64)    256         ['conv2d_45[0][0]']              \n",
            " ormalization)                                                                                    \n",
            "                                                                                                  \n",
            " conv2d_46 (Conv2D)             (None, 4, 4, 256)    16384       ['batch_normalization_44[0][0]'] \n",
            "                                                                                                  \n",
            " conv2d_47 (Conv2D)             (None, 4, 4, 256)    147456      ['batch_normalization_44[0][0]'] \n",
            "                                                                                                  \n",
            " batch_normalization_45 (BatchN  (None, 4, 4, 256)   1024        ['conv2d_46[0][0]']              \n",
            " ormalization)                                                                                    \n",
            "                                                                                                  \n",
            " batch_normalization_46 (BatchN  (None, 4, 4, 256)   1024        ['conv2d_47[0][0]']              \n",
            " ormalization)                                                                                    \n",
            "                                                                                                  \n",
            " concatenate_14 (Concatenate)   (None, 4, 4, 512)    0           ['batch_normalization_45[0][0]', \n",
            "                                                                  'batch_normalization_46[0][0]'] \n",
            "                                                                                                  \n",
            " max_pooling2d_5 (MaxPooling2D)  (None, 2, 2, 512)   0           ['concatenate_14[0][0]']         \n",
            "                                                                                                  \n",
            " conv2d_48 (Conv2D)             (None, 2, 2, 64)     32768       ['max_pooling2d_5[0][0]']        \n",
            "                                                                                                  \n",
            " batch_normalization_47 (BatchN  (None, 2, 2, 64)    256         ['conv2d_48[0][0]']              \n",
            " ormalization)                                                                                    \n",
            "                                                                                                  \n",
            " conv2d_49 (Conv2D)             (None, 2, 2, 256)    16384       ['batch_normalization_47[0][0]'] \n",
            "                                                                                                  \n",
            " conv2d_50 (Conv2D)             (None, 2, 2, 256)    147456      ['batch_normalization_47[0][0]'] \n",
            "                                                                                                  \n",
            " batch_normalization_48 (BatchN  (None, 2, 2, 256)   1024        ['conv2d_49[0][0]']              \n",
            " ormalization)                                                                                    \n",
            "                                                                                                  \n",
            " batch_normalization_49 (BatchN  (None, 2, 2, 256)   1024        ['conv2d_50[0][0]']              \n",
            " ormalization)                                                                                    \n",
            "                                                                                                  \n",
            " concatenate_15 (Concatenate)   (None, 2, 2, 512)    0           ['batch_normalization_48[0][0]', \n",
            "                                                                  'batch_normalization_49[0][0]'] \n",
            "                                                                                                  \n",
            " conv2d_51 (Conv2D)             (None, 2, 2, 10)     5130        ['concatenate_15[0][0]']         \n",
            "                                                                                                  \n",
            " global_average_pooling2d_1 (Gl  (None, 10)          0           ['conv2d_51[0][0]']              \n",
            " obalAveragePooling2D)                                                                            \n",
            "                                                                                                  \n",
            " activation_1 (Activation)      (None, 10)           0           ['global_average_pooling2d_1[0][0\n",
            "                                                                 ]']                              \n",
            "                                                                                                  \n",
            "==================================================================================================\n",
            "Total params: 749,482\n",
            "Trainable params: 743,530\n",
            "Non-trainable params: 5,952\n",
            "__________________________________________________________________________________________________\n"
          ]
        }
      ]
    },
    {
      "cell_type": "code",
      "source": [
        ""
      ],
      "metadata": {
        "id": "pl_UQg0hLEcC"
      },
      "execution_count": 12,
      "outputs": []
    },
    {
      "cell_type": "markdown",
      "source": [
        "# SQNetSE"
      ],
      "metadata": {
        "id": "FDyQhC-SNIjL"
      }
    },
    {
      "cell_type": "code",
      "source": [
        "import os\n",
        "os.environ[\"TF_CPP_MIN_LOG_LEVEL\"] = \"3\"\n",
        "from keras.layers import Conv2D, BatchNormalization, Activation, MaxPooling2D, Dropout\n",
        "from keras.layers import Concatenate, Input, GlobalAveragePooling2D, Dense, Multiply\n",
        "from keras.models import Model\n",
        "\n",
        "\n",
        "def SqueezeNetSE(input_shape, classes):\n",
        "\n",
        "\n",
        "  def SqueezeAndExcitation(inputs, ratio=8):\n",
        "    \n",
        "    b, h, w, c = inputs.shape\n",
        "    \n",
        "    x = GlobalAveragePooling2D()(inputs)\n",
        "    x = Dense(c//ratio, activation='relu', use_bias=False)(x)\n",
        "    x = Dense(c, activation='sigmoid', use_bias=False)(x)\n",
        "    \n",
        "    x = Multiply()([inputs, x])\n",
        "    \n",
        "    return x\n",
        "\n",
        "\n",
        "  def Fire(inputs, fs, fe):\n",
        "    \n",
        "    s1 = Conv2D(filters=fs, kernel_size=1, padding='same', use_bias=False, activation='relu')(inputs)\n",
        "    s1 = BatchNormalization()(s1)\n",
        "    e1 = Conv2D(filters=fe, kernel_size=1, padding='same', use_bias=False, activation='relu')(s1)\n",
        "    e1 = BatchNormalization()(e1)\n",
        "    e3 = Conv2D(filters=fe, kernel_size=3, padding='same', use_bias=False, activation='relu')(s1)\n",
        "    e3 = BatchNormalization()(e3)\n",
        "\n",
        "    output = Concatenate()([e1, e3])\n",
        "  \n",
        "    return output\n",
        "\n",
        "\n",
        "  inputs = Input(input_shape)\n",
        "  x1 = Conv2D(filters=96, kernel_size=7, strides=2, padding='same', use_bias=False, activation='relu')(inputs)\n",
        "  x1= s1 = BatchNormalization()(x1)\n",
        "  x1 = MaxPooling2D(pool_size=3, strides=2, padding='same')(x1)\n",
        "\n",
        "  f2 = Fire(x1, 16, 64)\n",
        "  f3 = Fire(f2, 16, 64)\n",
        "  f4 = Fire(f3, 32, 128)\n",
        "  f4 = SqueezeAndExcitation(f4, ratio=16)\n",
        "  x1 = MaxPooling2D(pool_size=3, strides=2, padding='same')(f4)\n",
        "\n",
        "  f5 = Fire(x1, 32, 128)\n",
        "  f6 = Fire(f5, 48, 192)\n",
        "  f7 = Fire(f6, 48, 192)\n",
        "  f8 = Fire(f7, 64, 256)\n",
        "  f8 = SqueezeAndExcitation(f8, ratio=16)\n",
        "\n",
        "  x1 = MaxPooling2D(pool_size=3, strides=2, padding='same')(f8)\n",
        "\n",
        "  f8 = Fire(x1, 64, 256)\n",
        "  x1 = Conv2D(filters=classes, kernel_size=1)(f8)\n",
        "  x1 = GlobalAveragePooling2D()(x1)\n",
        "\n",
        "  if classes == 1:\n",
        "    x1 = Activation('sigmoid')(x1)\n",
        "  else:\n",
        "    x1 = Activation('softmax')(x1)\n",
        "\n",
        "  model = Model(inputs=inputs, outputs=x1)\n",
        "  # model.summary()\n",
        "\n",
        "  return model\n"
      ],
      "metadata": {
        "id": "0nv7p3UsuatO"
      },
      "execution_count": 13,
      "outputs": []
    },
    {
      "cell_type": "code",
      "source": [
        "from tensorflow.keras.callbacks import ModelCheckpoint, ReduceLROnPlateau, CSVLogger, EarlyStopping\n",
        "import tensorflow as tf\n",
        "\n",
        "\"\"\" callbacks \"\"\"\n",
        "checkpoint_filepath = '/content/SQNET_{epoch}.h5'\n",
        "model_checkpoint_callback = ModelCheckpoint(\n",
        "    filepath=checkpoint_filepath,\n",
        "    save_weights_only=False,\n",
        "    # monitor='val_iou_score',\n",
        "    # mode='max',\n",
        "    verbose = 1,\n",
        "    period = 5,\n",
        "    save_best_only=False\n",
        "    )\n",
        "\n",
        "callbacks = [\n",
        "    model_checkpoint_callback,\n",
        "    ReduceLROnPlateau(monitor=\"val_loss\", patience=5, factor=0.5, verbose=1),\n",
        "    CSVLogger('/content/SQNET.csv'),\n",
        "    EarlyStopping(monitor=\"val_loss\", patience=8)\n",
        "]"
      ],
      "metadata": {
        "id": "s1wfkM1_uvyy",
        "colab": {
          "base_uri": "https://localhost:8080/"
        },
        "outputId": "5111d2b6-1a16-46c2-d1dd-e562ac70c59f"
      },
      "execution_count": 14,
      "outputs": [
        {
          "output_type": "stream",
          "name": "stdout",
          "text": [
            "WARNING:tensorflow:`period` argument is deprecated. Please use `save_freq` to specify the frequency in number of batches seen.\n"
          ]
        }
      ]
    },
    {
      "cell_type": "code",
      "source": [
        "model = SqueezeNetSE(input_shape = (32, 32, 3), classes=10)\n",
        "\n",
        "model.compile(\n",
        "    loss='categorical_crossentropy',\n",
        "    optimizer=tf.keras.optimizers.Adam(0.01),\n",
        "    metrics=['accuracy']\n",
        ")"
      ],
      "metadata": {
        "id": "IuAr6mn5uvy9"
      },
      "execution_count": 15,
      "outputs": []
    },
    {
      "cell_type": "code",
      "source": [
        "r1 = model.fit(\n",
        "    trainX, trainY,\n",
        "    validation_data=(valX, valY),\n",
        "    epochs=100,\n",
        "    batch_size=128,\n",
        "    steps_per_epoch=len(trainX)//128 + 1,\n",
        "    validation_steps=len(valX)//128 + 1,\n",
        "    callbacks=callbacks\n",
        ")"
      ],
      "metadata": {
        "id": "1xNjwMqCuvy9",
        "colab": {
          "base_uri": "https://localhost:8080/"
        },
        "outputId": "79226d09-4a5c-49ac-9e25-9a964e8d8443"
      },
      "execution_count": 16,
      "outputs": [
        {
          "output_type": "stream",
          "name": "stdout",
          "text": [
            "Epoch 1/100\n",
            "333/333 [==============================] - 22s 56ms/step - loss: 1.7884 - accuracy: 0.3590 - val_loss: 2.8851 - val_accuracy: 0.3107 - lr: 0.0100\n",
            "Epoch 2/100\n",
            "333/333 [==============================] - 18s 54ms/step - loss: 1.4225 - accuracy: 0.4867 - val_loss: 1.7953 - val_accuracy: 0.4325 - lr: 0.0100\n",
            "Epoch 3/100\n",
            "333/333 [==============================] - 18s 54ms/step - loss: 1.2975 - accuracy: 0.5293 - val_loss: 2.0426 - val_accuracy: 0.3972 - lr: 0.0100\n",
            "Epoch 4/100\n",
            "333/333 [==============================] - 18s 54ms/step - loss: 1.1796 - accuracy: 0.5759 - val_loss: 2.2541 - val_accuracy: 0.3885 - lr: 0.0100\n",
            "Epoch 5/100\n",
            "332/333 [============================>.] - ETA: 0s - loss: 1.0895 - accuracy: 0.6117\n",
            "Epoch 5: val_loss improved from inf to 1.85149, saving model to /content/SQNET_5.h5\n",
            "333/333 [==============================] - 19s 56ms/step - loss: 1.0897 - accuracy: 0.6117 - val_loss: 1.8515 - val_accuracy: 0.5016 - lr: 0.0100\n",
            "Epoch 6/100\n",
            "333/333 [==============================] - 18s 54ms/step - loss: 1.0163 - accuracy: 0.6419 - val_loss: 2.0052 - val_accuracy: 0.4716 - lr: 0.0100\n",
            "Epoch 7/100\n",
            "333/333 [==============================] - 18s 54ms/step - loss: 0.9518 - accuracy: 0.6657 - val_loss: 1.2905 - val_accuracy: 0.5944 - lr: 0.0100\n",
            "Epoch 8/100\n",
            "333/333 [==============================] - 18s 55ms/step - loss: 0.8837 - accuracy: 0.6924 - val_loss: 1.2130 - val_accuracy: 0.6072 - lr: 0.0100\n",
            "Epoch 9/100\n",
            "333/333 [==============================] - 18s 56ms/step - loss: 0.8553 - accuracy: 0.7023 - val_loss: 1.1138 - val_accuracy: 0.6387 - lr: 0.0100\n",
            "Epoch 10/100\n",
            "332/333 [============================>.] - ETA: 0s - loss: 0.8390 - accuracy: 0.7090\n",
            "Epoch 10: val_loss improved from 1.85149 to 1.07480, saving model to /content/SQNET_10.h5\n",
            "333/333 [==============================] - 19s 56ms/step - loss: 0.8391 - accuracy: 0.7090 - val_loss: 1.0748 - val_accuracy: 0.6453 - lr: 0.0100\n",
            "Epoch 11/100\n",
            "333/333 [==============================] - 18s 55ms/step - loss: 0.7647 - accuracy: 0.7360 - val_loss: 1.2795 - val_accuracy: 0.6081 - lr: 0.0100\n",
            "Epoch 12/100\n",
            "333/333 [==============================] - 18s 53ms/step - loss: 0.7380 - accuracy: 0.7428 - val_loss: 1.1036 - val_accuracy: 0.6393 - lr: 0.0100\n",
            "Epoch 13/100\n",
            "333/333 [==============================] - 18s 54ms/step - loss: 0.7282 - accuracy: 0.7493 - val_loss: 1.4065 - val_accuracy: 0.5851 - lr: 0.0100\n",
            "Epoch 14/100\n",
            "333/333 [==============================] - 18s 54ms/step - loss: 0.6585 - accuracy: 0.7722 - val_loss: 1.5202 - val_accuracy: 0.5867 - lr: 0.0100\n",
            "Epoch 15/100\n",
            "332/333 [============================>.] - ETA: 0s - loss: 0.6316 - accuracy: 0.7803\n",
            "Epoch 15: val_loss improved from 1.07480 to 1.06196, saving model to /content/SQNET_15.h5\n",
            "333/333 [==============================] - 18s 55ms/step - loss: 0.6316 - accuracy: 0.7803 - val_loss: 1.0620 - val_accuracy: 0.6565 - lr: 0.0100\n",
            "Epoch 16/100\n",
            "333/333 [==============================] - 18s 53ms/step - loss: 0.6407 - accuracy: 0.7790 - val_loss: 1.7669 - val_accuracy: 0.5383 - lr: 0.0100\n",
            "Epoch 17/100\n",
            "333/333 [==============================] - 18s 53ms/step - loss: 0.6071 - accuracy: 0.7900 - val_loss: 1.1760 - val_accuracy: 0.6569 - lr: 0.0100\n",
            "Epoch 18/100\n",
            "333/333 [==============================] - 18s 54ms/step - loss: 0.5525 - accuracy: 0.8107 - val_loss: 1.1229 - val_accuracy: 0.6691 - lr: 0.0100\n",
            "Epoch 19/100\n",
            "333/333 [==============================] - 18s 54ms/step - loss: 0.5474 - accuracy: 0.8100 - val_loss: 0.9524 - val_accuracy: 0.7036 - lr: 0.0100\n",
            "Epoch 20/100\n",
            "332/333 [============================>.] - ETA: 0s - loss: 0.5440 - accuracy: 0.8113\n",
            "Epoch 20: val_loss did not improve from 1.06196\n",
            "333/333 [==============================] - 18s 53ms/step - loss: 0.5441 - accuracy: 0.8113 - val_loss: 1.0973 - val_accuracy: 0.6740 - lr: 0.0100\n",
            "Epoch 21/100\n",
            "333/333 [==============================] - 18s 54ms/step - loss: 0.5163 - accuracy: 0.8196 - val_loss: 0.8293 - val_accuracy: 0.7416 - lr: 0.0100\n",
            "Epoch 22/100\n",
            "333/333 [==============================] - 18s 54ms/step - loss: 0.4663 - accuracy: 0.8376 - val_loss: 0.9444 - val_accuracy: 0.7091 - lr: 0.0100\n",
            "Epoch 23/100\n",
            "333/333 [==============================] - 18s 54ms/step - loss: 0.4689 - accuracy: 0.8390 - val_loss: 1.1850 - val_accuracy: 0.6721 - lr: 0.0100\n",
            "Epoch 24/100\n",
            "333/333 [==============================] - 18s 54ms/step - loss: 0.4404 - accuracy: 0.8461 - val_loss: 1.0669 - val_accuracy: 0.6923 - lr: 0.0100\n",
            "Epoch 25/100\n",
            "332/333 [============================>.] - ETA: 0s - loss: 0.4179 - accuracy: 0.8559\n",
            "Epoch 25: val_loss did not improve from 1.06196\n",
            "333/333 [==============================] - 18s 54ms/step - loss: 0.4180 - accuracy: 0.8559 - val_loss: 1.2701 - val_accuracy: 0.6608 - lr: 0.0100\n",
            "Epoch 26/100\n",
            "332/333 [============================>.] - ETA: 0s - loss: 0.4491 - accuracy: 0.8454\n",
            "Epoch 26: ReduceLROnPlateau reducing learning rate to 0.004999999888241291.\n",
            "333/333 [==============================] - 18s 54ms/step - loss: 0.4493 - accuracy: 0.8453 - val_loss: 0.9054 - val_accuracy: 0.7212 - lr: 0.0100\n",
            "Epoch 27/100\n",
            "333/333 [==============================] - 18s 54ms/step - loss: 0.2770 - accuracy: 0.9041 - val_loss: 1.1146 - val_accuracy: 0.7040 - lr: 0.0050\n",
            "Epoch 28/100\n",
            "333/333 [==============================] - 18s 54ms/step - loss: 0.2309 - accuracy: 0.9195 - val_loss: 1.1295 - val_accuracy: 0.7305 - lr: 0.0050\n",
            "Epoch 29/100\n",
            "333/333 [==============================] - 18s 53ms/step - loss: 0.1859 - accuracy: 0.9362 - val_loss: 1.6934 - val_accuracy: 0.6423 - lr: 0.0050\n"
          ]
        }
      ]
    },
    {
      "cell_type": "code",
      "source": [
        "model.evaluate(testX, testY, batch_size=128, workers=1, use_multiprocessing=True)"
      ],
      "metadata": {
        "colab": {
          "base_uri": "https://localhost:8080/"
        },
        "id": "5cQ3O457LR3t",
        "outputId": "bd83805f-2c23-4235-f9fb-9c7051c5790b"
      },
      "execution_count": 17,
      "outputs": [
        {
          "output_type": "stream",
          "name": "stdout",
          "text": [
            "79/79 [==============================] - 1s 17ms/step - loss: 1.7823 - accuracy: 0.6277\n"
          ]
        },
        {
          "output_type": "execute_result",
          "data": {
            "text/plain": [
              "[1.782346248626709, 0.6276999711990356]"
            ]
          },
          "metadata": {},
          "execution_count": 17
        }
      ]
    },
    {
      "cell_type": "code",
      "source": [
        "import matplotlib.pyplot as plt\n",
        "\n",
        "# loss\n",
        "plt.plot(r1.history['loss'], label='train loss')\n",
        "plt.plot(r1.history['val_loss'], label='val loss')\n",
        "plt.legend()\n",
        "plt.show()\n",
        "\n",
        "# accuracies\n",
        "plt.plot(r1.history['accuracy'], label='train acc')\n",
        "plt.plot(r1.history['val_accuracy'], label='val acc')\n",
        "plt.legend()\n",
        "plt.show()\n",
        "\n",
        "model.save('./SQNetSE.h5')\n"
      ],
      "metadata": {
        "id": "FcqfSSzGuaof",
        "colab": {
          "base_uri": "https://localhost:8080/",
          "height": 516
        },
        "outputId": "2b7265a9-8188-40a7-b93e-b9b5a7814a5d"
      },
      "execution_count": 18,
      "outputs": [
        {
          "output_type": "display_data",
          "data": {
            "text/plain": [
              "<Figure size 432x288 with 1 Axes>"
            ],
            "image/png": "[encoded data removed]"
          },
          "metadata": {
            "needs_background": "light"
          }
        },
        {
          "output_type": "display_data",
          "data": {
            "text/plain": [
              "<Figure size 432x288 with 1 Axes>"
            ],
            "image/png": "[encoded data removed]"
          },
          "metadata": {
            "needs_background": "light"
          }
        }
      ]
    },
    {
      "cell_type": "code",
      "source": [
        "model.summary()"
      ],
      "metadata": {
        "colab": {
          "base_uri": "https://localhost:8080/"
        },
        "id": "iimKeRGpLTLm",
        "outputId": "e7fc4b7d-e148-43ff-ef53-f53a7c618fbf"
      },
      "execution_count": 19,
      "outputs": [
        {
          "output_type": "stream",
          "name": "stdout",
          "text": [
            "Model: \"model_2\"\n",
            "__________________________________________________________________________________________________\n",
            " Layer (type)                   Output Shape         Param #     Connected to                     \n",
            "==================================================================================================\n",
            " input_3 (InputLayer)           [(None, 32, 32, 3)]  0           []                               \n",
            "                                                                                                  \n",
            " conv2d_52 (Conv2D)             (None, 16, 16, 96)   14112       ['input_3[0][0]']                \n",
            "                                                                                                  \n",
            " batch_normalization_50 (BatchN  (None, 16, 16, 96)  384         ['conv2d_52[0][0]']              \n",
            " ormalization)                                                                                    \n",
            "                                                                                                  \n",
            " max_pooling2d_6 (MaxPooling2D)  (None, 8, 8, 96)    0           ['batch_normalization_50[0][0]'] \n",
            "                                                                                                  \n",
            " conv2d_53 (Conv2D)             (None, 8, 8, 16)     1536        ['max_pooling2d_6[0][0]']        \n",
            "                                                                                                  \n",
            " batch_normalization_51 (BatchN  (None, 8, 8, 16)    64          ['conv2d_53[0][0]']              \n",
            " ormalization)                                                                                    \n",
            "                                                                                                  \n",
            " conv2d_54 (Conv2D)             (None, 8, 8, 64)     1024        ['batch_normalization_51[0][0]'] \n",
            "                                                                                                  \n",
            " conv2d_55 (Conv2D)             (None, 8, 8, 64)     9216        ['batch_normalization_51[0][0]'] \n",
            "                                                                                                  \n",
            " batch_normalization_52 (BatchN  (None, 8, 8, 64)    256         ['conv2d_54[0][0]']              \n",
            " ormalization)                                                                                    \n",
            "                                                                                                  \n",
            " batch_normalization_53 (BatchN  (None, 8, 8, 64)    256         ['conv2d_55[0][0]']              \n",
            " ormalization)                                                                                    \n",
            "                                                                                                  \n",
            " concatenate_16 (Concatenate)   (None, 8, 8, 128)    0           ['batch_normalization_52[0][0]', \n",
            "                                                                  'batch_normalization_53[0][0]'] \n",
            "                                                                                                  \n",
            " conv2d_56 (Conv2D)             (None, 8, 8, 16)     2048        ['concatenate_16[0][0]']         \n",
            "                                                                                                  \n",
            " batch_normalization_54 (BatchN  (None, 8, 8, 16)    64          ['conv2d_56[0][0]']              \n",
            " ormalization)                                                                                    \n",
            "                                                                                                  \n",
            " conv2d_57 (Conv2D)             (None, 8, 8, 64)     1024        ['batch_normalization_54[0][0]'] \n",
            "                                                                                                  \n",
            " conv2d_58 (Conv2D)             (None, 8, 8, 64)     9216        ['batch_normalization_54[0][0]'] \n",
            "                                                                                                  \n",
            " batch_normalization_55 (BatchN  (None, 8, 8, 64)    256         ['conv2d_57[0][0]']              \n",
            " ormalization)                                                                                    \n",
            "                                                                                                  \n",
            " batch_normalization_56 (BatchN  (None, 8, 8, 64)    256         ['conv2d_58[0][0]']              \n",
            " ormalization)                                                                                    \n",
            "                                                                                                  \n",
            " concatenate_17 (Concatenate)   (None, 8, 8, 128)    0           ['batch_normalization_55[0][0]', \n",
            "                                                                  'batch_normalization_56[0][0]'] \n",
            "                                                                                                  \n",
            " conv2d_59 (Conv2D)             (None, 8, 8, 32)     4096        ['concatenate_17[0][0]']         \n",
            "                                                                                                  \n",
            " batch_normalization_57 (BatchN  (None, 8, 8, 32)    128         ['conv2d_59[0][0]']              \n",
            " ormalization)                                                                                    \n",
            "                                                                                                  \n",
            " conv2d_60 (Conv2D)             (None, 8, 8, 128)    4096        ['batch_normalization_57[0][0]'] \n",
            "                                                                                                  \n",
            " conv2d_61 (Conv2D)             (None, 8, 8, 128)    36864       ['batch_normalization_57[0][0]'] \n",
            "                                                                                                  \n",
            " batch_normalization_58 (BatchN  (None, 8, 8, 128)   512         ['conv2d_60[0][0]']              \n",
            " ormalization)                                                                                    \n",
            "                                                                                                  \n",
            " batch_normalization_59 (BatchN  (None, 8, 8, 128)   512         ['conv2d_61[0][0]']              \n",
            " ormalization)                                                                                    \n",
            "                                                                                                  \n",
            " concatenate_18 (Concatenate)   (None, 8, 8, 256)    0           ['batch_normalization_58[0][0]', \n",
            "                                                                  'batch_normalization_59[0][0]'] \n",
            "                                                                                                  \n",
            " global_average_pooling2d_2 (Gl  (None, 256)         0           ['concatenate_18[0][0]']         \n",
            " obalAveragePooling2D)                                                                            \n",
            "                                                                                                  \n",
            " dense (Dense)                  (None, 16)           4096        ['global_average_pooling2d_2[0][0\n",
            "                                                                 ]']                              \n",
            "                                                                                                  \n",
            " dense_1 (Dense)                (None, 256)          4096        ['dense[0][0]']                  \n",
            "                                                                                                  \n",
            " multiply (Multiply)            (None, 8, 8, 256)    0           ['concatenate_18[0][0]',         \n",
            "                                                                  'dense_1[0][0]']                \n",
            "                                                                                                  \n",
            " max_pooling2d_7 (MaxPooling2D)  (None, 4, 4, 256)   0           ['multiply[0][0]']               \n",
            "                                                                                                  \n",
            " conv2d_62 (Conv2D)             (None, 4, 4, 32)     8192        ['max_pooling2d_7[0][0]']        \n",
            "                                                                                                  \n",
            " batch_normalization_60 (BatchN  (None, 4, 4, 32)    128         ['conv2d_62[0][0]']              \n",
            " ormalization)                                                                                    \n",
            "                                                                                                  \n",
            " conv2d_63 (Conv2D)             (None, 4, 4, 128)    4096        ['batch_normalization_60[0][0]'] \n",
            "                                                                                                  \n",
            " conv2d_64 (Conv2D)             (None, 4, 4, 128)    36864       ['batch_normalization_60[0][0]'] \n",
            "                                                                                                  \n",
            " batch_normalization_61 (BatchN  (None, 4, 4, 128)   512         ['conv2d_63[0][0]']              \n",
            " ormalization)                                                                                    \n",
            "                                                                                                  \n",
            " batch_normalization_62 (BatchN  (None, 4, 4, 128)   512         ['conv2d_64[0][0]']              \n",
            " ormalization)                                                                                    \n",
            "                                                                                                  \n",
            " concatenate_19 (Concatenate)   (None, 4, 4, 256)    0           ['batch_normalization_61[0][0]', \n",
            "                                                                  'batch_normalization_62[0][0]'] \n",
            "                                                                                                  \n",
            " conv2d_65 (Conv2D)             (None, 4, 4, 48)     12288       ['concatenate_19[0][0]']         \n",
            "                                                                                                  \n",
            " batch_normalization_63 (BatchN  (None, 4, 4, 48)    192         ['conv2d_65[0][0]']              \n",
            " ormalization)                                                                                    \n",
            "                                                                                                  \n",
            " conv2d_66 (Conv2D)             (None, 4, 4, 192)    9216        ['batch_normalization_63[0][0]'] \n",
            "                                                                                                  \n",
            " conv2d_67 (Conv2D)             (None, 4, 4, 192)    82944       ['batch_normalization_63[0][0]'] \n",
            "                                                                                                  \n",
            " batch_normalization_64 (BatchN  (None, 4, 4, 192)   768         ['conv2d_66[0][0]']              \n",
            " ormalization)                                                                                    \n",
            "                                                                                                  \n",
            " batch_normalization_65 (BatchN  (None, 4, 4, 192)   768         ['conv2d_67[0][0]']              \n",
            " ormalization)                                                                                    \n",
            "                                                                                                  \n",
            " concatenate_20 (Concatenate)   (None, 4, 4, 384)    0           ['batch_normalization_64[0][0]', \n",
            "                                                                  'batch_normalization_65[0][0]'] \n",
            "                                                                                                  \n",
            " conv2d_68 (Conv2D)             (None, 4, 4, 48)     18432       ['concatenate_20[0][0]']         \n",
            "                                                                                                  \n",
            " batch_normalization_66 (BatchN  (None, 4, 4, 48)    192         ['conv2d_68[0][0]']              \n",
            " ormalization)                                                                                    \n",
            "                                                                                                  \n",
            " conv2d_69 (Conv2D)             (None, 4, 4, 192)    9216        ['batch_normalization_66[0][0]'] \n",
            "                                                                                                  \n",
            " conv2d_70 (Conv2D)             (None, 4, 4, 192)    82944       ['batch_normalization_66[0][0]'] \n",
            "                                                                                                  \n",
            " batch_normalization_67 (BatchN  (None, 4, 4, 192)   768         ['conv2d_69[0][0]']              \n",
            " ormalization)                                                                                    \n",
            "                                                                                                  \n",
            " batch_normalization_68 (BatchN  (None, 4, 4, 192)   768         ['conv2d_70[0][0]']              \n",
            " ormalization)                                                                                    \n",
            "                                                                                                  \n",
            " concatenate_21 (Concatenate)   (None, 4, 4, 384)    0           ['batch_normalization_67[0][0]', \n",
            "                                                                  'batch_normalization_68[0][0]'] \n",
            "                                                                                                  \n",
            " conv2d_71 (Conv2D)             (None, 4, 4, 64)     24576       ['concatenate_21[0][0]']         \n",
            "                                                                                                  \n",
            " batch_normalization_69 (BatchN  (None, 4, 4, 64)    256         ['conv2d_71[0][0]']              \n",
            " ormalization)                                                                                    \n",
            "                                                                                                  \n",
            " conv2d_72 (Conv2D)             (None, 4, 4, 256)    16384       ['batch_normalization_69[0][0]'] \n",
            "                                                                                                  \n",
            " conv2d_73 (Conv2D)             (None, 4, 4, 256)    147456      ['batch_normalization_69[0][0]'] \n",
            "                                                                                                  \n",
            " batch_normalization_70 (BatchN  (None, 4, 4, 256)   1024        ['conv2d_72[0][0]']              \n",
            " ormalization)                                                                                    \n",
            "                                                                                                  \n",
            " batch_normalization_71 (BatchN  (None, 4, 4, 256)   1024        ['conv2d_73[0][0]']              \n",
            " ormalization)                                                                                    \n",
            "                                                                                                  \n",
            " concatenate_22 (Concatenate)   (None, 4, 4, 512)    0           ['batch_normalization_70[0][0]', \n",
            "                                                                  'batch_normalization_71[0][0]'] \n",
            "                                                                                                  \n",
            " global_average_pooling2d_3 (Gl  (None, 512)         0           ['concatenate_22[0][0]']         \n",
            " obalAveragePooling2D)                                                                            \n",
            "                                                                                                  \n",
            " dense_2 (Dense)                (None, 32)           16384       ['global_average_pooling2d_3[0][0\n",
            "                                                                 ]']                              \n",
            "                                                                                                  \n",
            " dense_3 (Dense)                (None, 512)          16384       ['dense_2[0][0]']                \n",
            "                                                                                                  \n",
            " multiply_1 (Multiply)          (None, 4, 4, 512)    0           ['concatenate_22[0][0]',         \n",
            "                                                                  'dense_3[0][0]']                \n",
            "                                                                                                  \n",
            " max_pooling2d_8 (MaxPooling2D)  (None, 2, 2, 512)   0           ['multiply_1[0][0]']             \n",
            "                                                                                                  \n",
            " conv2d_74 (Conv2D)             (None, 2, 2, 64)     32768       ['max_pooling2d_8[0][0]']        \n",
            "                                                                                                  \n",
            " batch_normalization_72 (BatchN  (None, 2, 2, 64)    256         ['conv2d_74[0][0]']              \n",
            " ormalization)                                                                                    \n",
            "                                                                                                  \n",
            " conv2d_75 (Conv2D)             (None, 2, 2, 256)    16384       ['batch_normalization_72[0][0]'] \n",
            "                                                                                                  \n",
            " conv2d_76 (Conv2D)             (None, 2, 2, 256)    147456      ['batch_normalization_72[0][0]'] \n",
            "                                                                                                  \n",
            " batch_normalization_73 (BatchN  (None, 2, 2, 256)   1024        ['conv2d_75[0][0]']              \n",
            " ormalization)                                                                                    \n",
            "                                                                                                  \n",
            " batch_normalization_74 (BatchN  (None, 2, 2, 256)   1024        ['conv2d_76[0][0]']              \n",
            " ormalization)                                                                                    \n",
            "                                                                                                  \n",
            " concatenate_23 (Concatenate)   (None, 2, 2, 512)    0           ['batch_normalization_73[0][0]', \n",
            "                                                                  'batch_normalization_74[0][0]'] \n",
            "                                                                                                  \n",
            " conv2d_77 (Conv2D)             (None, 2, 2, 10)     5130        ['concatenate_23[0][0]']         \n",
            "                                                                                                  \n",
            " global_average_pooling2d_4 (Gl  (None, 10)          0           ['conv2d_77[0][0]']              \n",
            " obalAveragePooling2D)                                                                            \n",
            "                                                                                                  \n",
            " activation_2 (Activation)      (None, 10)           0           ['global_average_pooling2d_4[0][0\n",
            "                                                                 ]']                              \n",
            "                                                                                                  \n",
            "==================================================================================================\n",
            "Total params: 790,442\n",
            "Trainable params: 784,490\n",
            "Non-trainable params: 5,952\n",
            "__________________________________________________________________________________________________\n"
          ]
        }
      ]
    },
    {
      "cell_type": "code",
      "source": [
        ""
      ],
      "metadata": {
        "id": "uBLOcJO6Ll4d"
      },
      "execution_count": 19,
      "outputs": []
    }
  ],
  "metadata": {
    "colab": {
      "collapsed_sections": [
        "2i9OtNd_M61A",
        "VXWvsn9zNAA9",
        "FDyQhC-SNIjL"
      ],
      "name": "SQNET_cifar10.ipynb",
      "provenance": []
    },
    "kernelspec": {
      "display_name": "Python 3",
      "name": "python3"
    },
    "accelerator": "GPU"
  },
  "nbformat": 4,
  "nbformat_minor": 0
}